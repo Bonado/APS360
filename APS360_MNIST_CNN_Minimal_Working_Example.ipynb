{
  "nbformat": 4,
  "nbformat_minor": 0,
  "metadata": {
    "colab": {
      "name": "APS360_MNIST_CNN_Minimal_Working_Example.ipynb",
      "provenance": [],
      "authorship_tag": "ABX9TyM84bzGute4GdaPDC/Af9q2",
      "include_colab_link": true
    },
    "kernelspec": {
      "name": "python3",
      "display_name": "Python 3"
    },
    "accelerator": "GPU",
    "widgets": {
      "application/vnd.jupyter.widget-state+json": {
        "8265fc1ed516444ab376a7a5f7b6e7f7": {
          "model_module": "@jupyter-widgets/controls",
          "model_name": "HBoxModel",
          "state": {
            "_view_name": "HBoxView",
            "_dom_classes": [],
            "_model_name": "HBoxModel",
            "_view_module": "@jupyter-widgets/controls",
            "_model_module_version": "1.5.0",
            "_view_count": null,
            "_view_module_version": "1.5.0",
            "box_style": "",
            "layout": "IPY_MODEL_05c83d588fa24f50bffa0bc3517a9580",
            "_model_module": "@jupyter-widgets/controls",
            "children": [
              "IPY_MODEL_d08e7d6ecfd24b1a9cd4755b2fe70435",
              "IPY_MODEL_4030e05321734584800f88738b1a1bf7"
            ]
          }
        },
        "05c83d588fa24f50bffa0bc3517a9580": {
          "model_module": "@jupyter-widgets/base",
          "model_name": "LayoutModel",
          "state": {
            "_view_name": "LayoutView",
            "grid_template_rows": null,
            "right": null,
            "justify_content": null,
            "_view_module": "@jupyter-widgets/base",
            "overflow": null,
            "_model_module_version": "1.2.0",
            "_view_count": null,
            "flex_flow": null,
            "width": null,
            "min_width": null,
            "border": null,
            "align_items": null,
            "bottom": null,
            "_model_module": "@jupyter-widgets/base",
            "top": null,
            "grid_column": null,
            "overflow_y": null,
            "overflow_x": null,
            "grid_auto_flow": null,
            "grid_area": null,
            "grid_template_columns": null,
            "flex": null,
            "_model_name": "LayoutModel",
            "justify_items": null,
            "grid_row": null,
            "max_height": null,
            "align_content": null,
            "visibility": null,
            "align_self": null,
            "height": null,
            "min_height": null,
            "padding": null,
            "grid_auto_rows": null,
            "grid_gap": null,
            "max_width": null,
            "order": null,
            "_view_module_version": "1.2.0",
            "grid_template_areas": null,
            "object_position": null,
            "object_fit": null,
            "grid_auto_columns": null,
            "margin": null,
            "display": null,
            "left": null
          }
        },
        "d08e7d6ecfd24b1a9cd4755b2fe70435": {
          "model_module": "@jupyter-widgets/controls",
          "model_name": "FloatProgressModel",
          "state": {
            "_view_name": "ProgressView",
            "style": "IPY_MODEL_a1cca5b7542a4193b6a8cdb17fab0527",
            "_dom_classes": [],
            "description": "",
            "_model_name": "FloatProgressModel",
            "bar_style": "success",
            "max": 1,
            "_view_module": "@jupyter-widgets/controls",
            "_model_module_version": "1.5.0",
            "value": 1,
            "_view_count": null,
            "_view_module_version": "1.5.0",
            "orientation": "horizontal",
            "min": 0,
            "description_tooltip": null,
            "_model_module": "@jupyter-widgets/controls",
            "layout": "IPY_MODEL_1fbb543ed65d42a9b7bf84a3dc094c4c"
          }
        },
        "4030e05321734584800f88738b1a1bf7": {
          "model_module": "@jupyter-widgets/controls",
          "model_name": "HTMLModel",
          "state": {
            "_view_name": "HTMLView",
            "style": "IPY_MODEL_0e786e6b5ea640ab90ae80570620a460",
            "_dom_classes": [],
            "description": "",
            "_model_name": "HTMLModel",
            "placeholder": "​",
            "_view_module": "@jupyter-widgets/controls",
            "_model_module_version": "1.5.0",
            "value": " 9920512/? [00:03&lt;00:00, 2638324.30it/s]",
            "_view_count": null,
            "_view_module_version": "1.5.0",
            "description_tooltip": null,
            "_model_module": "@jupyter-widgets/controls",
            "layout": "IPY_MODEL_c216280e901442ea80e031015a7f6400"
          }
        },
        "a1cca5b7542a4193b6a8cdb17fab0527": {
          "model_module": "@jupyter-widgets/controls",
          "model_name": "ProgressStyleModel",
          "state": {
            "_view_name": "StyleView",
            "_model_name": "ProgressStyleModel",
            "description_width": "initial",
            "_view_module": "@jupyter-widgets/base",
            "_model_module_version": "1.5.0",
            "_view_count": null,
            "_view_module_version": "1.2.0",
            "bar_color": null,
            "_model_module": "@jupyter-widgets/controls"
          }
        },
        "1fbb543ed65d42a9b7bf84a3dc094c4c": {
          "model_module": "@jupyter-widgets/base",
          "model_name": "LayoutModel",
          "state": {
            "_view_name": "LayoutView",
            "grid_template_rows": null,
            "right": null,
            "justify_content": null,
            "_view_module": "@jupyter-widgets/base",
            "overflow": null,
            "_model_module_version": "1.2.0",
            "_view_count": null,
            "flex_flow": null,
            "width": null,
            "min_width": null,
            "border": null,
            "align_items": null,
            "bottom": null,
            "_model_module": "@jupyter-widgets/base",
            "top": null,
            "grid_column": null,
            "overflow_y": null,
            "overflow_x": null,
            "grid_auto_flow": null,
            "grid_area": null,
            "grid_template_columns": null,
            "flex": null,
            "_model_name": "LayoutModel",
            "justify_items": null,
            "grid_row": null,
            "max_height": null,
            "align_content": null,
            "visibility": null,
            "align_self": null,
            "height": null,
            "min_height": null,
            "padding": null,
            "grid_auto_rows": null,
            "grid_gap": null,
            "max_width": null,
            "order": null,
            "_view_module_version": "1.2.0",
            "grid_template_areas": null,
            "object_position": null,
            "object_fit": null,
            "grid_auto_columns": null,
            "margin": null,
            "display": null,
            "left": null
          }
        },
        "0e786e6b5ea640ab90ae80570620a460": {
          "model_module": "@jupyter-widgets/controls",
          "model_name": "DescriptionStyleModel",
          "state": {
            "_view_name": "StyleView",
            "_model_name": "DescriptionStyleModel",
            "description_width": "",
            "_view_module": "@jupyter-widgets/base",
            "_model_module_version": "1.5.0",
            "_view_count": null,
            "_view_module_version": "1.2.0",
            "_model_module": "@jupyter-widgets/controls"
          }
        },
        "c216280e901442ea80e031015a7f6400": {
          "model_module": "@jupyter-widgets/base",
          "model_name": "LayoutModel",
          "state": {
            "_view_name": "LayoutView",
            "grid_template_rows": null,
            "right": null,
            "justify_content": null,
            "_view_module": "@jupyter-widgets/base",
            "overflow": null,
            "_model_module_version": "1.2.0",
            "_view_count": null,
            "flex_flow": null,
            "width": null,
            "min_width": null,
            "border": null,
            "align_items": null,
            "bottom": null,
            "_model_module": "@jupyter-widgets/base",
            "top": null,
            "grid_column": null,
            "overflow_y": null,
            "overflow_x": null,
            "grid_auto_flow": null,
            "grid_area": null,
            "grid_template_columns": null,
            "flex": null,
            "_model_name": "LayoutModel",
            "justify_items": null,
            "grid_row": null,
            "max_height": null,
            "align_content": null,
            "visibility": null,
            "align_self": null,
            "height": null,
            "min_height": null,
            "padding": null,
            "grid_auto_rows": null,
            "grid_gap": null,
            "max_width": null,
            "order": null,
            "_view_module_version": "1.2.0",
            "grid_template_areas": null,
            "object_position": null,
            "object_fit": null,
            "grid_auto_columns": null,
            "margin": null,
            "display": null,
            "left": null
          }
        },
        "33c4e53f5c0c43888c6e247b79a39263": {
          "model_module": "@jupyter-widgets/controls",
          "model_name": "HBoxModel",
          "state": {
            "_view_name": "HBoxView",
            "_dom_classes": [],
            "_model_name": "HBoxModel",
            "_view_module": "@jupyter-widgets/controls",
            "_model_module_version": "1.5.0",
            "_view_count": null,
            "_view_module_version": "1.5.0",
            "box_style": "",
            "layout": "IPY_MODEL_9f52fb7cdb534416890fdb9dda13d36a",
            "_model_module": "@jupyter-widgets/controls",
            "children": [
              "IPY_MODEL_23fb5d75930348b68625342759907573",
              "IPY_MODEL_f62b216c760d45e9821610e92af0974c"
            ]
          }
        },
        "9f52fb7cdb534416890fdb9dda13d36a": {
          "model_module": "@jupyter-widgets/base",
          "model_name": "LayoutModel",
          "state": {
            "_view_name": "LayoutView",
            "grid_template_rows": null,
            "right": null,
            "justify_content": null,
            "_view_module": "@jupyter-widgets/base",
            "overflow": null,
            "_model_module_version": "1.2.0",
            "_view_count": null,
            "flex_flow": null,
            "width": null,
            "min_width": null,
            "border": null,
            "align_items": null,
            "bottom": null,
            "_model_module": "@jupyter-widgets/base",
            "top": null,
            "grid_column": null,
            "overflow_y": null,
            "overflow_x": null,
            "grid_auto_flow": null,
            "grid_area": null,
            "grid_template_columns": null,
            "flex": null,
            "_model_name": "LayoutModel",
            "justify_items": null,
            "grid_row": null,
            "max_height": null,
            "align_content": null,
            "visibility": null,
            "align_self": null,
            "height": null,
            "min_height": null,
            "padding": null,
            "grid_auto_rows": null,
            "grid_gap": null,
            "max_width": null,
            "order": null,
            "_view_module_version": "1.2.0",
            "grid_template_areas": null,
            "object_position": null,
            "object_fit": null,
            "grid_auto_columns": null,
            "margin": null,
            "display": null,
            "left": null
          }
        },
        "23fb5d75930348b68625342759907573": {
          "model_module": "@jupyter-widgets/controls",
          "model_name": "FloatProgressModel",
          "state": {
            "_view_name": "ProgressView",
            "style": "IPY_MODEL_a251c34d1d034dac850cc4d9f5657213",
            "_dom_classes": [],
            "description": "",
            "_model_name": "FloatProgressModel",
            "bar_style": "success",
            "max": 1,
            "_view_module": "@jupyter-widgets/controls",
            "_model_module_version": "1.5.0",
            "value": 1,
            "_view_count": null,
            "_view_module_version": "1.5.0",
            "orientation": "horizontal",
            "min": 0,
            "description_tooltip": null,
            "_model_module": "@jupyter-widgets/controls",
            "layout": "IPY_MODEL_1e75fddcc06b46239272b9e1608f9384"
          }
        },
        "f62b216c760d45e9821610e92af0974c": {
          "model_module": "@jupyter-widgets/controls",
          "model_name": "HTMLModel",
          "state": {
            "_view_name": "HTMLView",
            "style": "IPY_MODEL_7001647bdfd842419f47907a6107a315",
            "_dom_classes": [],
            "description": "",
            "_model_name": "HTMLModel",
            "placeholder": "​",
            "_view_module": "@jupyter-widgets/controls",
            "_model_module_version": "1.5.0",
            "value": " 32768/? [00:00&lt;00:00, 98467.21it/s]",
            "_view_count": null,
            "_view_module_version": "1.5.0",
            "description_tooltip": null,
            "_model_module": "@jupyter-widgets/controls",
            "layout": "IPY_MODEL_3df152a123ad47a8b305627a4b54bb88"
          }
        },
        "a251c34d1d034dac850cc4d9f5657213": {
          "model_module": "@jupyter-widgets/controls",
          "model_name": "ProgressStyleModel",
          "state": {
            "_view_name": "StyleView",
            "_model_name": "ProgressStyleModel",
            "description_width": "initial",
            "_view_module": "@jupyter-widgets/base",
            "_model_module_version": "1.5.0",
            "_view_count": null,
            "_view_module_version": "1.2.0",
            "bar_color": null,
            "_model_module": "@jupyter-widgets/controls"
          }
        },
        "1e75fddcc06b46239272b9e1608f9384": {
          "model_module": "@jupyter-widgets/base",
          "model_name": "LayoutModel",
          "state": {
            "_view_name": "LayoutView",
            "grid_template_rows": null,
            "right": null,
            "justify_content": null,
            "_view_module": "@jupyter-widgets/base",
            "overflow": null,
            "_model_module_version": "1.2.0",
            "_view_count": null,
            "flex_flow": null,
            "width": null,
            "min_width": null,
            "border": null,
            "align_items": null,
            "bottom": null,
            "_model_module": "@jupyter-widgets/base",
            "top": null,
            "grid_column": null,
            "overflow_y": null,
            "overflow_x": null,
            "grid_auto_flow": null,
            "grid_area": null,
            "grid_template_columns": null,
            "flex": null,
            "_model_name": "LayoutModel",
            "justify_items": null,
            "grid_row": null,
            "max_height": null,
            "align_content": null,
            "visibility": null,
            "align_self": null,
            "height": null,
            "min_height": null,
            "padding": null,
            "grid_auto_rows": null,
            "grid_gap": null,
            "max_width": null,
            "order": null,
            "_view_module_version": "1.2.0",
            "grid_template_areas": null,
            "object_position": null,
            "object_fit": null,
            "grid_auto_columns": null,
            "margin": null,
            "display": null,
            "left": null
          }
        },
        "7001647bdfd842419f47907a6107a315": {
          "model_module": "@jupyter-widgets/controls",
          "model_name": "DescriptionStyleModel",
          "state": {
            "_view_name": "StyleView",
            "_model_name": "DescriptionStyleModel",
            "description_width": "",
            "_view_module": "@jupyter-widgets/base",
            "_model_module_version": "1.5.0",
            "_view_count": null,
            "_view_module_version": "1.2.0",
            "_model_module": "@jupyter-widgets/controls"
          }
        },
        "3df152a123ad47a8b305627a4b54bb88": {
          "model_module": "@jupyter-widgets/base",
          "model_name": "LayoutModel",
          "state": {
            "_view_name": "LayoutView",
            "grid_template_rows": null,
            "right": null,
            "justify_content": null,
            "_view_module": "@jupyter-widgets/base",
            "overflow": null,
            "_model_module_version": "1.2.0",
            "_view_count": null,
            "flex_flow": null,
            "width": null,
            "min_width": null,
            "border": null,
            "align_items": null,
            "bottom": null,
            "_model_module": "@jupyter-widgets/base",
            "top": null,
            "grid_column": null,
            "overflow_y": null,
            "overflow_x": null,
            "grid_auto_flow": null,
            "grid_area": null,
            "grid_template_columns": null,
            "flex": null,
            "_model_name": "LayoutModel",
            "justify_items": null,
            "grid_row": null,
            "max_height": null,
            "align_content": null,
            "visibility": null,
            "align_self": null,
            "height": null,
            "min_height": null,
            "padding": null,
            "grid_auto_rows": null,
            "grid_gap": null,
            "max_width": null,
            "order": null,
            "_view_module_version": "1.2.0",
            "grid_template_areas": null,
            "object_position": null,
            "object_fit": null,
            "grid_auto_columns": null,
            "margin": null,
            "display": null,
            "left": null
          }
        },
        "192af5ace48748cd857790fc19bc0d5a": {
          "model_module": "@jupyter-widgets/controls",
          "model_name": "HBoxModel",
          "state": {
            "_view_name": "HBoxView",
            "_dom_classes": [],
            "_model_name": "HBoxModel",
            "_view_module": "@jupyter-widgets/controls",
            "_model_module_version": "1.5.0",
            "_view_count": null,
            "_view_module_version": "1.5.0",
            "box_style": "",
            "layout": "IPY_MODEL_46a5e9e3822a4383a40d24be8cca937a",
            "_model_module": "@jupyter-widgets/controls",
            "children": [
              "IPY_MODEL_0a4a070362c34b86b447d4efba1cb82e",
              "IPY_MODEL_7b929bd1c96a4173839d1112c9ddf59e"
            ]
          }
        },
        "46a5e9e3822a4383a40d24be8cca937a": {
          "model_module": "@jupyter-widgets/base",
          "model_name": "LayoutModel",
          "state": {
            "_view_name": "LayoutView",
            "grid_template_rows": null,
            "right": null,
            "justify_content": null,
            "_view_module": "@jupyter-widgets/base",
            "overflow": null,
            "_model_module_version": "1.2.0",
            "_view_count": null,
            "flex_flow": null,
            "width": null,
            "min_width": null,
            "border": null,
            "align_items": null,
            "bottom": null,
            "_model_module": "@jupyter-widgets/base",
            "top": null,
            "grid_column": null,
            "overflow_y": null,
            "overflow_x": null,
            "grid_auto_flow": null,
            "grid_area": null,
            "grid_template_columns": null,
            "flex": null,
            "_model_name": "LayoutModel",
            "justify_items": null,
            "grid_row": null,
            "max_height": null,
            "align_content": null,
            "visibility": null,
            "align_self": null,
            "height": null,
            "min_height": null,
            "padding": null,
            "grid_auto_rows": null,
            "grid_gap": null,
            "max_width": null,
            "order": null,
            "_view_module_version": "1.2.0",
            "grid_template_areas": null,
            "object_position": null,
            "object_fit": null,
            "grid_auto_columns": null,
            "margin": null,
            "display": null,
            "left": null
          }
        },
        "0a4a070362c34b86b447d4efba1cb82e": {
          "model_module": "@jupyter-widgets/controls",
          "model_name": "FloatProgressModel",
          "state": {
            "_view_name": "ProgressView",
            "style": "IPY_MODEL_430ca97e3ace412b8adf5c323b8d34d1",
            "_dom_classes": [],
            "description": "",
            "_model_name": "FloatProgressModel",
            "bar_style": "success",
            "max": 1,
            "_view_module": "@jupyter-widgets/controls",
            "_model_module_version": "1.5.0",
            "value": 1,
            "_view_count": null,
            "_view_module_version": "1.5.0",
            "orientation": "horizontal",
            "min": 0,
            "description_tooltip": null,
            "_model_module": "@jupyter-widgets/controls",
            "layout": "IPY_MODEL_fef6963209394010acefb795652f9eb9"
          }
        },
        "7b929bd1c96a4173839d1112c9ddf59e": {
          "model_module": "@jupyter-widgets/controls",
          "model_name": "HTMLModel",
          "state": {
            "_view_name": "HTMLView",
            "style": "IPY_MODEL_a6ffbad69c6b4ac3a67e5878b1a4adb5",
            "_dom_classes": [],
            "description": "",
            "_model_name": "HTMLModel",
            "placeholder": "​",
            "_view_module": "@jupyter-widgets/controls",
            "_model_module_version": "1.5.0",
            "value": " 1654784/? [00:02&lt;00:00, 819617.14it/s]",
            "_view_count": null,
            "_view_module_version": "1.5.0",
            "description_tooltip": null,
            "_model_module": "@jupyter-widgets/controls",
            "layout": "IPY_MODEL_d1f8ebdef9d74dbcb2f69f83cb0e6e94"
          }
        },
        "430ca97e3ace412b8adf5c323b8d34d1": {
          "model_module": "@jupyter-widgets/controls",
          "model_name": "ProgressStyleModel",
          "state": {
            "_view_name": "StyleView",
            "_model_name": "ProgressStyleModel",
            "description_width": "initial",
            "_view_module": "@jupyter-widgets/base",
            "_model_module_version": "1.5.0",
            "_view_count": null,
            "_view_module_version": "1.2.0",
            "bar_color": null,
            "_model_module": "@jupyter-widgets/controls"
          }
        },
        "fef6963209394010acefb795652f9eb9": {
          "model_module": "@jupyter-widgets/base",
          "model_name": "LayoutModel",
          "state": {
            "_view_name": "LayoutView",
            "grid_template_rows": null,
            "right": null,
            "justify_content": null,
            "_view_module": "@jupyter-widgets/base",
            "overflow": null,
            "_model_module_version": "1.2.0",
            "_view_count": null,
            "flex_flow": null,
            "width": null,
            "min_width": null,
            "border": null,
            "align_items": null,
            "bottom": null,
            "_model_module": "@jupyter-widgets/base",
            "top": null,
            "grid_column": null,
            "overflow_y": null,
            "overflow_x": null,
            "grid_auto_flow": null,
            "grid_area": null,
            "grid_template_columns": null,
            "flex": null,
            "_model_name": "LayoutModel",
            "justify_items": null,
            "grid_row": null,
            "max_height": null,
            "align_content": null,
            "visibility": null,
            "align_self": null,
            "height": null,
            "min_height": null,
            "padding": null,
            "grid_auto_rows": null,
            "grid_gap": null,
            "max_width": null,
            "order": null,
            "_view_module_version": "1.2.0",
            "grid_template_areas": null,
            "object_position": null,
            "object_fit": null,
            "grid_auto_columns": null,
            "margin": null,
            "display": null,
            "left": null
          }
        },
        "a6ffbad69c6b4ac3a67e5878b1a4adb5": {
          "model_module": "@jupyter-widgets/controls",
          "model_name": "DescriptionStyleModel",
          "state": {
            "_view_name": "StyleView",
            "_model_name": "DescriptionStyleModel",
            "description_width": "",
            "_view_module": "@jupyter-widgets/base",
            "_model_module_version": "1.5.0",
            "_view_count": null,
            "_view_module_version": "1.2.0",
            "_model_module": "@jupyter-widgets/controls"
          }
        },
        "d1f8ebdef9d74dbcb2f69f83cb0e6e94": {
          "model_module": "@jupyter-widgets/base",
          "model_name": "LayoutModel",
          "state": {
            "_view_name": "LayoutView",
            "grid_template_rows": null,
            "right": null,
            "justify_content": null,
            "_view_module": "@jupyter-widgets/base",
            "overflow": null,
            "_model_module_version": "1.2.0",
            "_view_count": null,
            "flex_flow": null,
            "width": null,
            "min_width": null,
            "border": null,
            "align_items": null,
            "bottom": null,
            "_model_module": "@jupyter-widgets/base",
            "top": null,
            "grid_column": null,
            "overflow_y": null,
            "overflow_x": null,
            "grid_auto_flow": null,
            "grid_area": null,
            "grid_template_columns": null,
            "flex": null,
            "_model_name": "LayoutModel",
            "justify_items": null,
            "grid_row": null,
            "max_height": null,
            "align_content": null,
            "visibility": null,
            "align_self": null,
            "height": null,
            "min_height": null,
            "padding": null,
            "grid_auto_rows": null,
            "grid_gap": null,
            "max_width": null,
            "order": null,
            "_view_module_version": "1.2.0",
            "grid_template_areas": null,
            "object_position": null,
            "object_fit": null,
            "grid_auto_columns": null,
            "margin": null,
            "display": null,
            "left": null
          }
        },
        "d7ee2dfe7a504c70b2ab96ad55ac5aa2": {
          "model_module": "@jupyter-widgets/controls",
          "model_name": "HBoxModel",
          "state": {
            "_view_name": "HBoxView",
            "_dom_classes": [],
            "_model_name": "HBoxModel",
            "_view_module": "@jupyter-widgets/controls",
            "_model_module_version": "1.5.0",
            "_view_count": null,
            "_view_module_version": "1.5.0",
            "box_style": "",
            "layout": "IPY_MODEL_e0b50b422e7f4a7c93c04a19ffd7ec6b",
            "_model_module": "@jupyter-widgets/controls",
            "children": [
              "IPY_MODEL_55f8c5eab90d472faa097634b77119e3",
              "IPY_MODEL_64cdb17b0ffa48e991ab2a2325987a53"
            ]
          }
        },
        "e0b50b422e7f4a7c93c04a19ffd7ec6b": {
          "model_module": "@jupyter-widgets/base",
          "model_name": "LayoutModel",
          "state": {
            "_view_name": "LayoutView",
            "grid_template_rows": null,
            "right": null,
            "justify_content": null,
            "_view_module": "@jupyter-widgets/base",
            "overflow": null,
            "_model_module_version": "1.2.0",
            "_view_count": null,
            "flex_flow": null,
            "width": null,
            "min_width": null,
            "border": null,
            "align_items": null,
            "bottom": null,
            "_model_module": "@jupyter-widgets/base",
            "top": null,
            "grid_column": null,
            "overflow_y": null,
            "overflow_x": null,
            "grid_auto_flow": null,
            "grid_area": null,
            "grid_template_columns": null,
            "flex": null,
            "_model_name": "LayoutModel",
            "justify_items": null,
            "grid_row": null,
            "max_height": null,
            "align_content": null,
            "visibility": null,
            "align_self": null,
            "height": null,
            "min_height": null,
            "padding": null,
            "grid_auto_rows": null,
            "grid_gap": null,
            "max_width": null,
            "order": null,
            "_view_module_version": "1.2.0",
            "grid_template_areas": null,
            "object_position": null,
            "object_fit": null,
            "grid_auto_columns": null,
            "margin": null,
            "display": null,
            "left": null
          }
        },
        "55f8c5eab90d472faa097634b77119e3": {
          "model_module": "@jupyter-widgets/controls",
          "model_name": "FloatProgressModel",
          "state": {
            "_view_name": "ProgressView",
            "style": "IPY_MODEL_d1e0dab914d842f0ac9a90dfa7b418a8",
            "_dom_classes": [],
            "description": "",
            "_model_name": "FloatProgressModel",
            "bar_style": "success",
            "max": 1,
            "_view_module": "@jupyter-widgets/controls",
            "_model_module_version": "1.5.0",
            "value": 1,
            "_view_count": null,
            "_view_module_version": "1.5.0",
            "orientation": "horizontal",
            "min": 0,
            "description_tooltip": null,
            "_model_module": "@jupyter-widgets/controls",
            "layout": "IPY_MODEL_722c7fec0b9641dcbc268a759d9c131a"
          }
        },
        "64cdb17b0ffa48e991ab2a2325987a53": {
          "model_module": "@jupyter-widgets/controls",
          "model_name": "HTMLModel",
          "state": {
            "_view_name": "HTMLView",
            "style": "IPY_MODEL_4307152506104aa4afdf6b7fc5816a90",
            "_dom_classes": [],
            "description": "",
            "_model_name": "HTMLModel",
            "placeholder": "​",
            "_view_module": "@jupyter-widgets/controls",
            "_model_module_version": "1.5.0",
            "value": " 8192/? [00:00&lt;00:00, 18748.27it/s]",
            "_view_count": null,
            "_view_module_version": "1.5.0",
            "description_tooltip": null,
            "_model_module": "@jupyter-widgets/controls",
            "layout": "IPY_MODEL_47c64ee098e54a2188efaa3c1bc65a55"
          }
        },
        "d1e0dab914d842f0ac9a90dfa7b418a8": {
          "model_module": "@jupyter-widgets/controls",
          "model_name": "ProgressStyleModel",
          "state": {
            "_view_name": "StyleView",
            "_model_name": "ProgressStyleModel",
            "description_width": "initial",
            "_view_module": "@jupyter-widgets/base",
            "_model_module_version": "1.5.0",
            "_view_count": null,
            "_view_module_version": "1.2.0",
            "bar_color": null,
            "_model_module": "@jupyter-widgets/controls"
          }
        },
        "722c7fec0b9641dcbc268a759d9c131a": {
          "model_module": "@jupyter-widgets/base",
          "model_name": "LayoutModel",
          "state": {
            "_view_name": "LayoutView",
            "grid_template_rows": null,
            "right": null,
            "justify_content": null,
            "_view_module": "@jupyter-widgets/base",
            "overflow": null,
            "_model_module_version": "1.2.0",
            "_view_count": null,
            "flex_flow": null,
            "width": null,
            "min_width": null,
            "border": null,
            "align_items": null,
            "bottom": null,
            "_model_module": "@jupyter-widgets/base",
            "top": null,
            "grid_column": null,
            "overflow_y": null,
            "overflow_x": null,
            "grid_auto_flow": null,
            "grid_area": null,
            "grid_template_columns": null,
            "flex": null,
            "_model_name": "LayoutModel",
            "justify_items": null,
            "grid_row": null,
            "max_height": null,
            "align_content": null,
            "visibility": null,
            "align_self": null,
            "height": null,
            "min_height": null,
            "padding": null,
            "grid_auto_rows": null,
            "grid_gap": null,
            "max_width": null,
            "order": null,
            "_view_module_version": "1.2.0",
            "grid_template_areas": null,
            "object_position": null,
            "object_fit": null,
            "grid_auto_columns": null,
            "margin": null,
            "display": null,
            "left": null
          }
        },
        "4307152506104aa4afdf6b7fc5816a90": {
          "model_module": "@jupyter-widgets/controls",
          "model_name": "DescriptionStyleModel",
          "state": {
            "_view_name": "StyleView",
            "_model_name": "DescriptionStyleModel",
            "description_width": "",
            "_view_module": "@jupyter-widgets/base",
            "_model_module_version": "1.5.0",
            "_view_count": null,
            "_view_module_version": "1.2.0",
            "_model_module": "@jupyter-widgets/controls"
          }
        },
        "47c64ee098e54a2188efaa3c1bc65a55": {
          "model_module": "@jupyter-widgets/base",
          "model_name": "LayoutModel",
          "state": {
            "_view_name": "LayoutView",
            "grid_template_rows": null,
            "right": null,
            "justify_content": null,
            "_view_module": "@jupyter-widgets/base",
            "overflow": null,
            "_model_module_version": "1.2.0",
            "_view_count": null,
            "flex_flow": null,
            "width": null,
            "min_width": null,
            "border": null,
            "align_items": null,
            "bottom": null,
            "_model_module": "@jupyter-widgets/base",
            "top": null,
            "grid_column": null,
            "overflow_y": null,
            "overflow_x": null,
            "grid_auto_flow": null,
            "grid_area": null,
            "grid_template_columns": null,
            "flex": null,
            "_model_name": "LayoutModel",
            "justify_items": null,
            "grid_row": null,
            "max_height": null,
            "align_content": null,
            "visibility": null,
            "align_self": null,
            "height": null,
            "min_height": null,
            "padding": null,
            "grid_auto_rows": null,
            "grid_gap": null,
            "max_width": null,
            "order": null,
            "_view_module_version": "1.2.0",
            "grid_template_areas": null,
            "object_position": null,
            "object_fit": null,
            "grid_auto_columns": null,
            "margin": null,
            "display": null,
            "left": null
          }
        }
      }
    }
  },
  "cells": [
    {
      "cell_type": "markdown",
      "metadata": {
        "id": "view-in-github",
        "colab_type": "text"
      },
      "source": [
        "<a href=\"https://colab.research.google.com/github/Bonado/APS360/blob/master/APS360_MNIST_CNN_Minimal_Working_Example.ipynb\" target=\"_parent\"><img src=\"https://colab.research.google.com/assets/colab-badge.svg\" alt=\"Open In Colab\"/></a>"
      ]
    },
    {
      "cell_type": "code",
      "metadata": {
        "id": "opiN3cqleY79",
        "colab_type": "code",
        "colab": {
          "base_uri": "https://localhost:8080/",
          "height": 658,
          "referenced_widgets": [
            "8265fc1ed516444ab376a7a5f7b6e7f7",
            "05c83d588fa24f50bffa0bc3517a9580",
            "d08e7d6ecfd24b1a9cd4755b2fe70435",
            "4030e05321734584800f88738b1a1bf7",
            "a1cca5b7542a4193b6a8cdb17fab0527",
            "1fbb543ed65d42a9b7bf84a3dc094c4c",
            "0e786e6b5ea640ab90ae80570620a460",
            "c216280e901442ea80e031015a7f6400",
            "33c4e53f5c0c43888c6e247b79a39263",
            "9f52fb7cdb534416890fdb9dda13d36a",
            "23fb5d75930348b68625342759907573",
            "f62b216c760d45e9821610e92af0974c",
            "a251c34d1d034dac850cc4d9f5657213",
            "1e75fddcc06b46239272b9e1608f9384",
            "7001647bdfd842419f47907a6107a315",
            "3df152a123ad47a8b305627a4b54bb88",
            "192af5ace48748cd857790fc19bc0d5a",
            "46a5e9e3822a4383a40d24be8cca937a",
            "0a4a070362c34b86b447d4efba1cb82e",
            "7b929bd1c96a4173839d1112c9ddf59e",
            "430ca97e3ace412b8adf5c323b8d34d1",
            "fef6963209394010acefb795652f9eb9",
            "a6ffbad69c6b4ac3a67e5878b1a4adb5",
            "d1f8ebdef9d74dbcb2f69f83cb0e6e94",
            "d7ee2dfe7a504c70b2ab96ad55ac5aa2",
            "e0b50b422e7f4a7c93c04a19ffd7ec6b",
            "55f8c5eab90d472faa097634b77119e3",
            "64cdb17b0ffa48e991ab2a2325987a53",
            "d1e0dab914d842f0ac9a90dfa7b418a8",
            "722c7fec0b9641dcbc268a759d9c131a",
            "4307152506104aa4afdf6b7fc5816a90",
            "47c64ee098e54a2188efaa3c1bc65a55"
          ]
        },
        "outputId": "a896b9dd-115f-4620-fa6b-2ca13d74cc0a"
      },
      "source": [
        "import torch\n",
        "import torch.nn as nn\n",
        "import torch.nn.functional as F\n",
        "import matplotlib.pyplot as plt\n",
        "import torch.optim as optim\n",
        "torch.manual_seed(1)\n",
        "from torchvision import datasets, transforms\n",
        "!pip install torchviz\n",
        "from torchviz import make_dot\n",
        "mnist_data = datasets.MNIST('data', train=True, download=True, transform=transforms.ToTensor())\n",
        "mnist_data = list(mnist_data)\n",
        "mnist_train = mnist_data[:4096]\n",
        "mnist_val   = mnist_data[4096:5120]"
      ],
      "execution_count": null,
      "outputs": [
        {
          "output_type": "stream",
          "text": [
            "Collecting torchviz\n",
            "\u001b[?25l  Downloading https://files.pythonhosted.org/packages/8f/8e/a9630c7786b846d08b47714dd363a051f5e37b4ea0e534460d8cdfc1644b/torchviz-0.0.1.tar.gz (41kB)\n",
            "\r\u001b[K     |████████                        | 10kB 24.5MB/s eta 0:00:01\r\u001b[K     |████████████████                | 20kB 4.1MB/s eta 0:00:01\r\u001b[K     |███████████████████████▉        | 30kB 5.4MB/s eta 0:00:01\r\u001b[K     |███████████████████████████████▉| 40kB 5.6MB/s eta 0:00:01\r\u001b[K     |████████████████████████████████| 51kB 3.9MB/s \n",
            "\u001b[?25hRequirement already satisfied: torch in /usr/local/lib/python3.6/dist-packages (from torchviz) (1.5.1+cu101)\n",
            "Requirement already satisfied: graphviz in /usr/local/lib/python3.6/dist-packages (from torchviz) (0.10.1)\n",
            "Requirement already satisfied: future in /usr/local/lib/python3.6/dist-packages (from torch->torchviz) (0.16.0)\n",
            "Requirement already satisfied: numpy in /usr/local/lib/python3.6/dist-packages (from torch->torchviz) (1.18.5)\n",
            "Building wheels for collected packages: torchviz\n",
            "  Building wheel for torchviz (setup.py) ... \u001b[?25l\u001b[?25hdone\n",
            "  Created wheel for torchviz: filename=torchviz-0.0.1-cp36-none-any.whl size=3523 sha256=7ebfc3b5db7dc437471d9173980902316e5d23940c76ae39f9189176aef3c3fc\n",
            "  Stored in directory: /root/.cache/pip/wheels/2a/c2/c5/b8b4d0f7992c735f6db5bfa3c5f354cf36502037ca2b585667\n",
            "Successfully built torchviz\n",
            "Installing collected packages: torchviz\n",
            "Successfully installed torchviz-0.0.1\n",
            "Downloading http://yann.lecun.com/exdb/mnist/train-images-idx3-ubyte.gz to data/MNIST/raw/train-images-idx3-ubyte.gz\n"
          ],
          "name": "stdout"
        },
        {
          "output_type": "display_data",
          "data": {
            "application/vnd.jupyter.widget-view+json": {
              "model_id": "8265fc1ed516444ab376a7a5f7b6e7f7",
              "version_minor": 0,
              "version_major": 2
            },
            "text/plain": [
              "HBox(children=(FloatProgress(value=1.0, bar_style='info', max=1.0), HTML(value='')))"
            ]
          },
          "metadata": {
            "tags": []
          }
        },
        {
          "output_type": "stream",
          "text": [
            "Extracting data/MNIST/raw/train-images-idx3-ubyte.gz to data/MNIST/raw\n",
            "Downloading http://yann.lecun.com/exdb/mnist/train-labels-idx1-ubyte.gz to data/MNIST/raw/train-labels-idx1-ubyte.gz\n"
          ],
          "name": "stdout"
        },
        {
          "output_type": "display_data",
          "data": {
            "application/vnd.jupyter.widget-view+json": {
              "model_id": "33c4e53f5c0c43888c6e247b79a39263",
              "version_minor": 0,
              "version_major": 2
            },
            "text/plain": [
              "HBox(children=(FloatProgress(value=1.0, bar_style='info', max=1.0), HTML(value='')))"
            ]
          },
          "metadata": {
            "tags": []
          }
        },
        {
          "output_type": "stream",
          "text": [
            "Extracting data/MNIST/raw/train-labels-idx1-ubyte.gz to data/MNIST/raw\n",
            "Downloading http://yann.lecun.com/exdb/mnist/t10k-images-idx3-ubyte.gz to data/MNIST/raw/t10k-images-idx3-ubyte.gz\n",
            "\n"
          ],
          "name": "stdout"
        },
        {
          "output_type": "display_data",
          "data": {
            "application/vnd.jupyter.widget-view+json": {
              "model_id": "192af5ace48748cd857790fc19bc0d5a",
              "version_minor": 0,
              "version_major": 2
            },
            "text/plain": [
              "HBox(children=(FloatProgress(value=1.0, bar_style='info', max=1.0), HTML(value='')))"
            ]
          },
          "metadata": {
            "tags": []
          }
        },
        {
          "output_type": "stream",
          "text": [
            "Extracting data/MNIST/raw/t10k-images-idx3-ubyte.gz to data/MNIST/raw\n",
            "Downloading http://yann.lecun.com/exdb/mnist/t10k-labels-idx1-ubyte.gz to data/MNIST/raw/t10k-labels-idx1-ubyte.gz\n"
          ],
          "name": "stdout"
        },
        {
          "output_type": "display_data",
          "data": {
            "application/vnd.jupyter.widget-view+json": {
              "model_id": "d7ee2dfe7a504c70b2ab96ad55ac5aa2",
              "version_minor": 0,
              "version_major": 2
            },
            "text/plain": [
              "HBox(children=(FloatProgress(value=1.0, bar_style='info', max=1.0), HTML(value='')))"
            ]
          },
          "metadata": {
            "tags": []
          }
        },
        {
          "output_type": "stream",
          "text": [
            "Extracting data/MNIST/raw/t10k-labels-idx1-ubyte.gz to data/MNIST/raw\n",
            "Processing...\n",
            "Done!\n",
            "\n"
          ],
          "name": "stdout"
        },
        {
          "output_type": "stream",
          "text": [
            "/pytorch/torch/csrc/utils/tensor_numpy.cpp:141: UserWarning: The given NumPy array is not writeable, and PyTorch does not support non-writeable tensors. This means you can write to the underlying (supposedly non-writeable) NumPy array using the tensor. You may want to copy the array to protect its data or make it writeable before converting it to a tensor. This type of warning will be suppressed for the rest of this program.\n"
          ],
          "name": "stderr"
        },
        {
          "output_type": "stream",
          "text": [
            "\n",
            "\n"
          ],
          "name": "stdout"
        }
      ]
    },
    {
      "cell_type": "code",
      "metadata": {
        "id": "ZIAMImjvezUK",
        "colab_type": "code",
        "colab": {}
      },
      "source": [
        "class MNISTClassifier(nn.Module):\n",
        "    def __init__(self):\n",
        "      super(MNISTClassifier, self).__init__()\n",
        "      self.conv1 = nn.Conv2d(1, 5, 5)\n",
        "      self.pool = nn.MaxPool2d(2,2)\n",
        "      self.conv2 = nn.Conv2d(5, 10, 5)\n",
        "      self.fc1 = nn.Linear(160, 32)\n",
        "      self.fc2 = nn.Linear(32, 10)\n",
        "\n",
        "    def forward(self, x):\n",
        "      x = self.pool(F.relu(self.conv1(x)))\n",
        "      x = self.pool(F.relu(self.conv2(x)))\n",
        "      x = x.view(-1, 160)\n",
        "      x = F.relu(self.fc1(x))\n",
        "      x = self.fc2(x)\n",
        "      return x "
      ],
      "execution_count": null,
      "outputs": []
    },
    {
      "cell_type": "code",
      "metadata": {
        "id": "woanzg9NesK4",
        "colab_type": "code",
        "colab": {}
      },
      "source": [
        "def get_accuracy(model, train=False):\n",
        "    if train:\n",
        "        data = mnist_train\n",
        "    else:\n",
        "        data = mnist_val\n",
        "\n",
        "    correct = 0\n",
        "    total = 0\n",
        "    for imgs, labels in torch.utils.data.DataLoader(data, batch_size=64, shuffle = True):\n",
        "        \n",
        "        \n",
        "        #############################################\n",
        "        #To Enable GPU Usage\n",
        "        if use_cuda and torch.cuda.is_available():\n",
        "          imgs = imgs.cuda()\n",
        "          labels = labels.cuda()\n",
        "        #############################################\n",
        "        \n",
        "        \n",
        "        output = model(imgs)\n",
        "        #select index with maximum prediction score\n",
        "        pred = output.max(1, keepdim=True)[1]\n",
        "        correct += pred.eq(labels.view_as(pred)).sum().item()\n",
        "        total += imgs.shape[0]\n",
        "    return correct / total"
      ],
      "execution_count": null,
      "outputs": []
    },
    {
      "cell_type": "code",
      "metadata": {
        "id": "XBDOZetWeu0D",
        "colab_type": "code",
        "colab": {}
      },
      "source": [
        "def train(model, data, batch_size=64, num_epochs=1):\n",
        "    train_loader = torch.utils.data.DataLoader(data, batch_size=batch_size, shuffle = True)\n",
        "    criterion = nn.CrossEntropyLoss()\n",
        "    optimizer = optim.SGD(model.parameters(), lr=0.01, momentum=0.9)\n",
        "\n",
        "    iters, losses, train_acc, val_acc = [], [], [], []\n",
        "\n",
        "    # training\n",
        "    n = 0 # the number of iterations\n",
        "    for epoch in range(num_epochs):\n",
        "        for imgs, labels in iter(train_loader):\n",
        "          \n",
        "          \n",
        "            #############################################\n",
        "            #To Enable GPU Usage\n",
        "            if use_cuda and torch.cuda.is_available():\n",
        "              imgs = imgs.cuda()\n",
        "              labels = labels.cuda()\n",
        "            #############################################\n",
        "            \n",
        "              \n",
        "            out = model(imgs)             # forward pass\n",
        "            loss = criterion(out, labels) # compute the total loss\n",
        "\n",
        "            loss.backward()               # backward pass (compute parameter updates)\n",
        "            optimizer.step()              # make the updates for each parameter\n",
        "            optimizer.zero_grad()         # a clean up step for PyTorch\n",
        "\n",
        "            # save the current training information\n",
        "            iters.append(n)\n",
        "            losses.append(float(loss)/batch_size)             # compute *average* loss\n",
        "            train_acc.append(get_accuracy(model, train=True)) # compute training accuracy \n",
        "            val_acc.append(get_accuracy(model, train=False))  # compute validation accuracy\n",
        "            n += 1\n",
        "\n",
        "    # plotting\n",
        "    plt.title(\"Training Curve\")\n",
        "    plt.plot(iters, losses, label=\"Train\")\n",
        "    plt.xlabel(\"Iterations\")\n",
        "    plt.ylabel(\"Loss\")\n",
        "    plt.show()\n",
        "\n",
        "    plt.title(\"Training Curve\")\n",
        "    plt.plot(iters, train_acc, label=\"Train\")\n",
        "    plt.plot(iters, val_acc, label=\"Validation\")\n",
        "    plt.xlabel(\"Iterations\")\n",
        "    plt.ylabel(\"Training Accuracy\")\n",
        "    plt.legend(loc='best')\n",
        "    plt.show()\n",
        "\n",
        "    print(\"Final Training Accuracy: {}\".format(train_acc[-1]))\n",
        "    print(\"Final Validation Accuracy: {}\".format(val_acc[-1]))\n",
        "return loss"
      ],
      "execution_count": null,
      "outputs": []
    },
    {
      "cell_type": "code",
      "metadata": {
        "id": "1I36z_drexPD",
        "colab_type": "code",
        "colab": {
          "base_uri": "https://localhost:8080/",
          "height": 624
        },
        "outputId": "88241a05-5da4-499d-bb78-e4712c19d769"
      },
      "source": [
        "use_cuda = True\n",
        "\n",
        "model = MNISTClassifier()\n",
        "\n",
        "if use_cuda and torch.cuda.is_available():\n",
        "  model.cuda()\n",
        "  print('CUDA is available!  Training on GPU ...')\n",
        "else:\n",
        "  print('CUDA is not available.  Training on CPU ...')\n",
        "  \n",
        "#proper model\n",
        "train(model, mnist_train, num_epochs=1)"
      ],
      "execution_count": null,
      "outputs": [
        {
          "output_type": "stream",
          "text": [
            "CUDA is available!  Training on GPU ...\n"
          ],
          "name": "stdout"
        },
        {
          "output_type": "display_data",
          "data": {
            "image/png": "[encoded data removed]",
            "text/plain": [
              "<Figure size 432x288 with 1 Axes>"
            ]
          },
          "metadata": {
            "tags": [],
            "needs_background": "light"
          }
        },
        {
          "output_type": "display_data",
          "data": {
            "image/png": "[encoded data removed]",
            "text/plain": [
              "<Figure size 432x288 with 1 Axes>"
            ]
          },
          "metadata": {
            "tags": [],
            "needs_background": "light"
          }
        },
        {
          "output_type": "stream",
          "text": [
            "Final Training Accuracy: 0.16015625\n",
            "Final Validation Accuracy: 0.1494140625\n"
          ],
          "name": "stdout"
        }
      ]
    },
    {
      "cell_type": "code",
      "metadata": {
        "id": "rpIsKJ6gfQ0M",
        "colab_type": "code",
        "colab": {
          "base_uri": "https://localhost:8080/",
          "height": 272
        },
        "outputId": "5f2ad799-3658-4573-a65f-695e7357155e"
      },
      "source": [
        "plt.imshow(model.fc1.weight.data.cpu().numpy())\n",
        "plt.figure()\n",
        "plt.imshow(model.fc2.weight.data.cpu().numpy())\n",
        "\n"
      ],
      "execution_count": null,
      "outputs": [
        {
          "output_type": "execute_result",
          "data": {
            "text/plain": [
              "<matplotlib.image.AxesImage at 0x7f43a2164470>"
            ]
          },
          "metadata": {
            "tags": []
          },
          "execution_count": 49
        },
        {
          "output_type": "display_data",
          "data": {
            "image/png": "[encoded data removed]",
            "text/plain": [
              "<Figure size 432x288 with 1 Axes>"
            ]
          },
          "metadata": {
            "tags": [],
            "needs_background": "light"
          }
        },
        {
          "output_type": "display_data",
          "data": {
            "image/png": "[encoded data removed]",
            "text/plain": [
              "<Figure size 432x288 with 1 Axes>"
            ]
          },
          "metadata": {
            "tags": [],
            "needs_background": "light"
          }
        }
      ]
    },
    {
      "cell_type": "code",
      "metadata": {
        "id": "rlReOyQWjpw3",
        "colab_type": "code",
        "colab": {
          "base_uri": "https://localhost:8080/",
          "height": 266
        },
        "outputId": "fe87815b-a74c-4dc2-d19c-67ad051a4236"
      },
      "source": [
        "kernels = model.conv1.weight.cpu().detach()\n",
        "fig, axarr = plt.subplots(kernels.size(0))\n",
        "for idx in range(kernels.size(0)):\n",
        "    axarr[idx].imshow(kernels[idx].squeeze())\n"
      ],
      "execution_count": null,
      "outputs": [
        {
          "output_type": "display_data",
          "data": {
            "image/png": "[encoded data removed]",
            "text/plain": [
              "<Figure size 432x288 with 5 Axes>"
            ]
          },
          "metadata": {
            "tags": [],
            "needs_background": "light"
          }
        }
      ]
    },
    {
      "cell_type": "markdown",
      "metadata": {
        "id": "GcFGZad4jwEh",
        "colab_type": "text"
      },
      "source": [
        ""
      ]
    },
    {
      "cell_type": "code",
      "metadata": {
        "id": "dUL3D2H1QdTZ",
        "colab_type": "code",
        "colab": {
          "base_uri": "https://localhost:8080/",
          "height": 1000
        },
        "outputId": "40251a0c-55be-4d0b-c49d-8c3601559171"
      },
      "source": [
        "train_loader = torch.utils.data.DataLoader(mnist_train, batch_size=1, shuffle = True)\n",
        "imgs, labels = list(train_loader)[0]\n",
        "\n",
        "make_dot(model(imgs.cuda())) "
      ],
      "execution_count": null,
      "outputs": [
        {
          "output_type": "execute_result",
          "data": {
            "text/plain": [
              "<graphviz.dot.Digraph at 0x7f43faa76e10>"
            ],
            "image/svg+xml": "<?xml version=\"1.0\" encoding=\"UTF-8\" standalone=\"no\"?>\n<!DOCTYPE svg PUBLIC \"-//W3C//DTD SVG 1.1//EN\"\n \"http://www.w3.org/Graphics/SVG/1.1/DTD/svg11.dtd\">\n<!-- Generated by graphviz version 2.40.1 (20161225.0304)\n -->\n<!-- Title: %3 Pages: 1 -->\n<svg width=\"516pt\" height=\"797pt\"\n viewBox=\"0.00 0.00 516.00 797.00\" xmlns=\"http://www.w3.org/2000/svg\" xmlns:xlink=\"http://www.w3.org/1999/xlink\">\n<g id=\"graph0\" class=\"graph\" transform=\"scale(1 1) rotate(0) translate(4 793)\">\n<title>%3</title>\n<polygon fill=\"#ffffff\" stroke=\"transparent\" points=\"-4,4 -4,-793 512,-793 512,4 -4,4\"/>\n<!-- 139929944916992 -->\n<g id=\"node1\" class=\"node\">\n<title>139929944916992</title>\n<polygon fill=\"#caff70\" stroke=\"#000000\" points=\"398.5,-21 294.5,-21 294.5,0 398.5,0 398.5,-21\"/>\n<text text-anchor=\"middle\" x=\"346.5\" y=\"-7.4\" font-family=\"Times,serif\" font-size=\"12.00\" fill=\"#000000\">AddmmBackward</text>\n</g>\n<!-- 139929944916936 -->\n<g id=\"node2\" class=\"node\">\n<title>139929944916936</title>\n<polygon fill=\"#add8e6\" stroke=\"#000000\" points=\"281.5,-92 227.5,-92 227.5,-57 281.5,-57 281.5,-92\"/>\n<text text-anchor=\"middle\" x=\"254.5\" y=\"-64.4\" font-family=\"Times,serif\" font-size=\"12.00\" fill=\"#000000\"> (10)</text>\n</g>\n<!-- 139929944916936&#45;&gt;139929944916992 -->\n<g id=\"edge1\" class=\"edge\">\n<title>139929944916936&#45;&gt;139929944916992</title>\n<path fill=\"none\" stroke=\"#000000\" d=\"M280.1271,-56.6724C293.5188,-47.3565 309.7974,-36.0322 322.8816,-26.9302\"/>\n<polygon fill=\"#000000\" stroke=\"#000000\" points=\"325.1445,-29.6197 331.3548,-21.0358 321.147,-23.8733 325.1445,-29.6197\"/>\n</g>\n<!-- 139929944877656 -->\n<g id=\"node3\" class=\"node\">\n<title>139929944877656</title>\n<polygon fill=\"#d3d3d3\" stroke=\"#000000\" points=\"393.5,-85 299.5,-85 299.5,-64 393.5,-64 393.5,-85\"/>\n<text text-anchor=\"middle\" x=\"346.5\" y=\"-71.4\" font-family=\"Times,serif\" font-size=\"12.00\" fill=\"#000000\">ReluBackward0</text>\n</g>\n<!-- 139929944877656&#45;&gt;139929944916992 -->\n<g id=\"edge2\" class=\"edge\">\n<title>139929944877656&#45;&gt;139929944916992</title>\n<path fill=\"none\" stroke=\"#000000\" d=\"M346.5,-63.9317C346.5,-55.0913 346.5,-42.2122 346.5,-31.3135\"/>\n<polygon fill=\"#000000\" stroke=\"#000000\" points=\"350.0001,-31.2979 346.5,-21.2979 343.0001,-31.2979 350.0001,-31.2979\"/>\n</g>\n<!-- 139930186528976 -->\n<g id=\"node4\" class=\"node\">\n<title>139930186528976</title>\n<polygon fill=\"#d3d3d3\" stroke=\"#000000\" points=\"398.5,-156 294.5,-156 294.5,-135 398.5,-135 398.5,-156\"/>\n<text text-anchor=\"middle\" x=\"346.5\" y=\"-142.4\" font-family=\"Times,serif\" font-size=\"12.00\" fill=\"#000000\">AddmmBackward</text>\n</g>\n<!-- 139930186528976&#45;&gt;139929944877656 -->\n<g id=\"edge3\" class=\"edge\">\n<title>139930186528976&#45;&gt;139929944877656</title>\n<path fill=\"none\" stroke=\"#000000\" d=\"M346.5,-134.7166C346.5,-124.3953 346.5,-108.5401 346.5,-95.6896\"/>\n<polygon fill=\"#000000\" stroke=\"#000000\" points=\"350.0001,-95.3848 346.5,-85.3849 343.0001,-95.3849 350.0001,-95.3848\"/>\n</g>\n<!-- 139930186528864 -->\n<g id=\"node5\" class=\"node\">\n<title>139930186528864</title>\n<polygon fill=\"#add8e6\" stroke=\"#000000\" points=\"282.5,-234 228.5,-234 228.5,-199 282.5,-199 282.5,-234\"/>\n<text text-anchor=\"middle\" x=\"255.5\" y=\"-206.4\" font-family=\"Times,serif\" font-size=\"12.00\" fill=\"#000000\"> (32)</text>\n</g>\n<!-- 139930186528864&#45;&gt;139930186528976 -->\n<g id=\"edge4\" class=\"edge\">\n<title>139930186528864&#45;&gt;139930186528976</title>\n<path fill=\"none\" stroke=\"#000000\" d=\"M277.9944,-198.9494C292.2906,-187.7952 310.6989,-173.4327 324.8325,-162.4054\"/>\n<polygon fill=\"#000000\" stroke=\"#000000\" points=\"327.2741,-164.9397 333.0053,-156.0288 322.9681,-159.4208 327.2741,-164.9397\"/>\n</g>\n<!-- 139928489263960 -->\n<g id=\"node6\" class=\"node\">\n<title>139928489263960</title>\n<polygon fill=\"#d3d3d3\" stroke=\"#000000\" points=\"392,-227 301,-227 301,-206 392,-206 392,-227\"/>\n<text text-anchor=\"middle\" x=\"346.5\" y=\"-213.4\" font-family=\"Times,serif\" font-size=\"12.00\" fill=\"#000000\">ViewBackward</text>\n</g>\n<!-- 139928489263960&#45;&gt;139930186528976 -->\n<g id=\"edge5\" class=\"edge\">\n<title>139928489263960&#45;&gt;139930186528976</title>\n<path fill=\"none\" stroke=\"#000000\" d=\"M346.5,-205.7166C346.5,-195.3953 346.5,-179.5401 346.5,-166.6896\"/>\n<polygon fill=\"#000000\" stroke=\"#000000\" points=\"350.0001,-166.3848 346.5,-156.3849 343.0001,-166.3849 350.0001,-166.3848\"/>\n</g>\n<!-- 139928489264912 -->\n<g id=\"node7\" class=\"node\">\n<title>139928489264912</title>\n<polygon fill=\"#d3d3d3\" stroke=\"#000000\" points=\"426.5,-298 246.5,-298 246.5,-277 426.5,-277 426.5,-298\"/>\n<text text-anchor=\"middle\" x=\"336.5\" y=\"-284.4\" font-family=\"Times,serif\" font-size=\"12.00\" fill=\"#000000\">MaxPool2DWithIndicesBackward</text>\n</g>\n<!-- 139928489264912&#45;&gt;139928489263960 -->\n<g id=\"edge6\" class=\"edge\">\n<title>139928489264912&#45;&gt;139928489263960</title>\n<path fill=\"none\" stroke=\"#000000\" d=\"M338.0188,-276.7166C339.4872,-266.291 341.7508,-250.2192 343.5703,-237.3011\"/>\n<polygon fill=\"#000000\" stroke=\"#000000\" points=\"347.0379,-237.7753 344.9669,-227.3849 340.1064,-236.7989 347.0379,-237.7753\"/>\n</g>\n<!-- 139928489264240 -->\n<g id=\"node8\" class=\"node\">\n<title>139928489264240</title>\n<polygon fill=\"#d3d3d3\" stroke=\"#000000\" points=\"383.5,-362 289.5,-362 289.5,-341 383.5,-341 383.5,-362\"/>\n<text text-anchor=\"middle\" x=\"336.5\" y=\"-348.4\" font-family=\"Times,serif\" font-size=\"12.00\" fill=\"#000000\">ReluBackward0</text>\n</g>\n<!-- 139928489264240&#45;&gt;139928489264912 -->\n<g id=\"edge7\" class=\"edge\">\n<title>139928489264240&#45;&gt;139928489264912</title>\n<path fill=\"none\" stroke=\"#000000\" d=\"M336.5,-340.9317C336.5,-332.0913 336.5,-319.2122 336.5,-308.3135\"/>\n<polygon fill=\"#000000\" stroke=\"#000000\" points=\"340.0001,-308.2979 336.5,-298.2979 333.0001,-308.2979 340.0001,-308.2979\"/>\n</g>\n<!-- 139928489265696 -->\n<g id=\"node9\" class=\"node\">\n<title>139928489265696</title>\n<polygon fill=\"#d3d3d3\" stroke=\"#000000\" points=\"382.5,-419 290.5,-419 290.5,-398 382.5,-398 382.5,-419\"/>\n<text text-anchor=\"middle\" x=\"336.5\" y=\"-405.4\" font-family=\"Times,serif\" font-size=\"12.00\" fill=\"#000000\">AddBackward0</text>\n</g>\n<!-- 139928489265696&#45;&gt;139928489264240 -->\n<g id=\"edge8\" class=\"edge\">\n<title>139928489265696&#45;&gt;139928489264240</title>\n<path fill=\"none\" stroke=\"#000000\" d=\"M336.5,-397.7787C336.5,-390.6134 336.5,-380.9517 336.5,-372.3097\"/>\n<polygon fill=\"#000000\" stroke=\"#000000\" points=\"340.0001,-372.1732 336.5,-362.1732 333.0001,-372.1732 340.0001,-372.1732\"/>\n</g>\n<!-- 139928489264688 -->\n<g id=\"node10\" class=\"node\">\n<title>139928489264688</title>\n<polygon fill=\"#d3d3d3\" stroke=\"#000000\" points=\"344,-476 187,-476 187,-455 344,-455 344,-476\"/>\n<text text-anchor=\"middle\" x=\"265.5\" y=\"-462.4\" font-family=\"Times,serif\" font-size=\"12.00\" fill=\"#000000\">CudnnConvolutionBackward</text>\n</g>\n<!-- 139928489264688&#45;&gt;139928489265696 -->\n<g id=\"edge9\" class=\"edge\">\n<title>139928489264688&#45;&gt;139928489265696</title>\n<path fill=\"none\" stroke=\"#000000\" d=\"M278.8546,-454.7787C289.069,-446.5784 303.3561,-435.1085 315.1511,-425.6393\"/>\n<polygon fill=\"#000000\" stroke=\"#000000\" points=\"317.5985,-428.1629 323.2053,-419.1732 313.2162,-422.7043 317.5985,-428.1629\"/>\n</g>\n<!-- 139928489264408 -->\n<g id=\"node11\" class=\"node\">\n<title>139928489264408</title>\n<polygon fill=\"#d3d3d3\" stroke=\"#000000\" points=\"239.5,-540 59.5,-540 59.5,-519 239.5,-519 239.5,-540\"/>\n<text text-anchor=\"middle\" x=\"149.5\" y=\"-526.4\" font-family=\"Times,serif\" font-size=\"12.00\" fill=\"#000000\">MaxPool2DWithIndicesBackward</text>\n</g>\n<!-- 139928489264408&#45;&gt;139928489264688 -->\n<g id=\"edge10\" class=\"edge\">\n<title>139928489264408&#45;&gt;139928489264688</title>\n<path fill=\"none\" stroke=\"#000000\" d=\"M168.655,-518.9317C187.3774,-508.6021 216.094,-492.7585 237.4007,-481.0031\"/>\n<polygon fill=\"#000000\" stroke=\"#000000\" points=\"239.2515,-483.9793 246.3165,-476.084 235.8699,-477.8503 239.2515,-483.9793\"/>\n</g>\n<!-- 139928489263848 -->\n<g id=\"node12\" class=\"node\">\n<title>139928489263848</title>\n<polygon fill=\"#d3d3d3\" stroke=\"#000000\" points=\"196.5,-604 102.5,-604 102.5,-583 196.5,-583 196.5,-604\"/>\n<text text-anchor=\"middle\" x=\"149.5\" y=\"-590.4\" font-family=\"Times,serif\" font-size=\"12.00\" fill=\"#000000\">ReluBackward0</text>\n</g>\n<!-- 139928489263848&#45;&gt;139928489264408 -->\n<g id=\"edge11\" class=\"edge\">\n<title>139928489263848&#45;&gt;139928489264408</title>\n<path fill=\"none\" stroke=\"#000000\" d=\"M149.5,-582.9317C149.5,-574.0913 149.5,-561.2122 149.5,-550.3135\"/>\n<polygon fill=\"#000000\" stroke=\"#000000\" points=\"153.0001,-550.2979 149.5,-540.2979 146.0001,-550.2979 153.0001,-550.2979\"/>\n</g>\n<!-- 139928489265248 -->\n<g id=\"node13\" class=\"node\">\n<title>139928489265248</title>\n<polygon fill=\"#d3d3d3\" stroke=\"#000000\" points=\"195.5,-661 103.5,-661 103.5,-640 195.5,-640 195.5,-661\"/>\n<text text-anchor=\"middle\" x=\"149.5\" y=\"-647.4\" font-family=\"Times,serif\" font-size=\"12.00\" fill=\"#000000\">AddBackward0</text>\n</g>\n<!-- 139928489265248&#45;&gt;139928489263848 -->\n<g id=\"edge12\" class=\"edge\">\n<title>139928489265248&#45;&gt;139928489263848</title>\n<path fill=\"none\" stroke=\"#000000\" d=\"M149.5,-639.7787C149.5,-632.6134 149.5,-622.9517 149.5,-614.3097\"/>\n<polygon fill=\"#000000\" stroke=\"#000000\" points=\"153.0001,-614.1732 149.5,-604.1732 146.0001,-614.1732 153.0001,-614.1732\"/>\n</g>\n<!-- 139928489266032 -->\n<g id=\"node14\" class=\"node\">\n<title>139928489266032</title>\n<polygon fill=\"#d3d3d3\" stroke=\"#000000\" points=\"157,-718 0,-718 0,-697 157,-697 157,-718\"/>\n<text text-anchor=\"middle\" x=\"78.5\" y=\"-704.4\" font-family=\"Times,serif\" font-size=\"12.00\" fill=\"#000000\">CudnnConvolutionBackward</text>\n</g>\n<!-- 139928489266032&#45;&gt;139928489265248 -->\n<g id=\"edge13\" class=\"edge\">\n<title>139928489266032&#45;&gt;139928489265248</title>\n<path fill=\"none\" stroke=\"#000000\" d=\"M91.8546,-696.7787C102.069,-688.5784 116.3561,-677.1085 128.1511,-667.6393\"/>\n<polygon fill=\"#000000\" stroke=\"#000000\" points=\"130.5985,-670.1629 136.2053,-661.1732 126.2162,-664.7043 130.5985,-670.1629\"/>\n</g>\n<!-- 139928489264744 -->\n<g id=\"node15\" class=\"node\">\n<title>139928489264744</title>\n<polygon fill=\"#add8e6\" stroke=\"#000000\" points=\"113,-789 44,-789 44,-754 113,-754 113,-789\"/>\n<text text-anchor=\"middle\" x=\"78.5\" y=\"-761.4\" font-family=\"Times,serif\" font-size=\"12.00\" fill=\"#000000\"> (5, 1, 5, 5)</text>\n</g>\n<!-- 139928489264744&#45;&gt;139928489266032 -->\n<g id=\"edge14\" class=\"edge\">\n<title>139928489264744&#45;&gt;139928489266032</title>\n<path fill=\"none\" stroke=\"#000000\" d=\"M78.5,-753.6724C78.5,-745.8405 78.5,-736.5893 78.5,-728.4323\"/>\n<polygon fill=\"#000000\" stroke=\"#000000\" points=\"82.0001,-728.2234 78.5,-718.2234 75.0001,-728.2235 82.0001,-728.2234\"/>\n</g>\n<!-- 139928489264352 -->\n<g id=\"node16\" class=\"node\">\n<title>139928489264352</title>\n<polygon fill=\"#d3d3d3\" stroke=\"#000000\" points=\"266,-718 175,-718 175,-697 266,-697 266,-718\"/>\n<text text-anchor=\"middle\" x=\"220.5\" y=\"-704.4\" font-family=\"Times,serif\" font-size=\"12.00\" fill=\"#000000\">ViewBackward</text>\n</g>\n<!-- 139928489264352&#45;&gt;139928489265248 -->\n<g id=\"edge15\" class=\"edge\">\n<title>139928489264352&#45;&gt;139928489265248</title>\n<path fill=\"none\" stroke=\"#000000\" d=\"M207.1454,-696.7787C196.931,-688.5784 182.6439,-677.1085 170.8489,-667.6393\"/>\n<polygon fill=\"#000000\" stroke=\"#000000\" points=\"172.7838,-664.7043 162.7947,-661.1732 168.4015,-670.1629 172.7838,-664.7043\"/>\n</g>\n<!-- 139928489263288 -->\n<g id=\"node17\" class=\"node\">\n<title>139928489263288</title>\n<polygon fill=\"#add8e6\" stroke=\"#000000\" points=\"247.5,-789 193.5,-789 193.5,-754 247.5,-754 247.5,-789\"/>\n<text text-anchor=\"middle\" x=\"220.5\" y=\"-761.4\" font-family=\"Times,serif\" font-size=\"12.00\" fill=\"#000000\"> (5)</text>\n</g>\n<!-- 139928489263288&#45;&gt;139928489264352 -->\n<g id=\"edge16\" class=\"edge\">\n<title>139928489263288&#45;&gt;139928489264352</title>\n<path fill=\"none\" stroke=\"#000000\" d=\"M220.5,-753.6724C220.5,-745.8405 220.5,-736.5893 220.5,-728.4323\"/>\n<polygon fill=\"#000000\" stroke=\"#000000\" points=\"224.0001,-728.2234 220.5,-718.2234 217.0001,-728.2235 224.0001,-728.2234\"/>\n</g>\n<!-- 139928489266928 -->\n<g id=\"node18\" class=\"node\">\n<title>139928489266928</title>\n<polygon fill=\"#add8e6\" stroke=\"#000000\" points=\"333,-547 258,-547 258,-512 333,-512 333,-547\"/>\n<text text-anchor=\"middle\" x=\"295.5\" y=\"-519.4\" font-family=\"Times,serif\" font-size=\"12.00\" fill=\"#000000\"> (10, 5, 5, 5)</text>\n</g>\n<!-- 139928489266928&#45;&gt;139928489264688 -->\n<g id=\"edge17\" class=\"edge\">\n<title>139928489266928&#45;&gt;139928489264688</title>\n<path fill=\"none\" stroke=\"#000000\" d=\"M287.1433,-511.6724C283.3053,-503.4845 278.74,-493.7453 274.7939,-485.327\"/>\n<polygon fill=\"#000000\" stroke=\"#000000\" points=\"277.9401,-483.7925 270.5266,-476.2234 271.6019,-486.7636 277.9401,-483.7925\"/>\n</g>\n<!-- 139928489265472 -->\n<g id=\"node19\" class=\"node\">\n<title>139928489265472</title>\n<polygon fill=\"#d3d3d3\" stroke=\"#000000\" points=\"453,-476 362,-476 362,-455 453,-455 453,-476\"/>\n<text text-anchor=\"middle\" x=\"407.5\" y=\"-462.4\" font-family=\"Times,serif\" font-size=\"12.00\" fill=\"#000000\">ViewBackward</text>\n</g>\n<!-- 139928489265472&#45;&gt;139928489265696 -->\n<g id=\"edge18\" class=\"edge\">\n<title>139928489265472&#45;&gt;139928489265696</title>\n<path fill=\"none\" stroke=\"#000000\" d=\"M394.1454,-454.7787C383.931,-446.5784 369.6439,-435.1085 357.8489,-425.6393\"/>\n<polygon fill=\"#000000\" stroke=\"#000000\" points=\"359.7838,-422.7043 349.7947,-419.1732 355.4015,-428.1629 359.7838,-422.7043\"/>\n</g>\n<!-- 139928489265080 -->\n<g id=\"node20\" class=\"node\">\n<title>139928489265080</title>\n<polygon fill=\"#add8e6\" stroke=\"#000000\" points=\"434.5,-547 380.5,-547 380.5,-512 434.5,-512 434.5,-547\"/>\n<text text-anchor=\"middle\" x=\"407.5\" y=\"-519.4\" font-family=\"Times,serif\" font-size=\"12.00\" fill=\"#000000\"> (10)</text>\n</g>\n<!-- 139928489265080&#45;&gt;139928489265472 -->\n<g id=\"edge19\" class=\"edge\">\n<title>139928489265080&#45;&gt;139928489265472</title>\n<path fill=\"none\" stroke=\"#000000\" d=\"M407.5,-511.6724C407.5,-503.8405 407.5,-494.5893 407.5,-486.4323\"/>\n<polygon fill=\"#000000\" stroke=\"#000000\" points=\"411.0001,-486.2234 407.5,-476.2234 404.0001,-486.2235 411.0001,-486.2234\"/>\n</g>\n<!-- 139928489265864 -->\n<g id=\"node21\" class=\"node\">\n<title>139928489265864</title>\n<polygon fill=\"#d3d3d3\" stroke=\"#000000\" points=\"503,-227 430,-227 430,-206 503,-206 503,-227\"/>\n<text text-anchor=\"middle\" x=\"466.5\" y=\"-213.4\" font-family=\"Times,serif\" font-size=\"12.00\" fill=\"#000000\">TBackward</text>\n</g>\n<!-- 139928489265864&#45;&gt;139930186528976 -->\n<g id=\"edge20\" class=\"edge\">\n<title>139928489265864&#45;&gt;139930186528976</title>\n<path fill=\"none\" stroke=\"#000000\" d=\"M448.5348,-205.8706C428.6518,-194.1065 396.3924,-175.0197 373.4728,-161.4589\"/>\n<polygon fill=\"#000000\" stroke=\"#000000\" points=\"374.9767,-158.282 364.588,-156.2021 371.4122,-164.3065 374.9767,-158.282\"/>\n</g>\n<!-- 139928489266648 -->\n<g id=\"node22\" class=\"node\">\n<title>139928489266648</title>\n<polygon fill=\"#add8e6\" stroke=\"#000000\" points=\"508,-305 445,-305 445,-270 508,-270 508,-305\"/>\n<text text-anchor=\"middle\" x=\"476.5\" y=\"-277.4\" font-family=\"Times,serif\" font-size=\"12.00\" fill=\"#000000\"> (32, 160)</text>\n</g>\n<!-- 139928489266648&#45;&gt;139928489265864 -->\n<g id=\"edge21\" class=\"edge\">\n<title>139928489266648&#45;&gt;139928489265864</title>\n<path fill=\"none\" stroke=\"#000000\" d=\"M474.0281,-269.9494C472.6201,-259.9527 470.8492,-247.3791 469.3787,-236.9389\"/>\n<polygon fill=\"#000000\" stroke=\"#000000\" points=\"472.8435,-236.4429 467.9829,-227.0288 465.9119,-237.4193 472.8435,-236.4429\"/>\n</g>\n<!-- 139929971869960 -->\n<g id=\"node23\" class=\"node\">\n<title>139929971869960</title>\n<polygon fill=\"#d3d3d3\" stroke=\"#000000\" points=\"485,-85 412,-85 412,-64 485,-64 485,-85\"/>\n<text text-anchor=\"middle\" x=\"448.5\" y=\"-71.4\" font-family=\"Times,serif\" font-size=\"12.00\" fill=\"#000000\">TBackward</text>\n</g>\n<!-- 139929971869960&#45;&gt;139929944916992 -->\n<g id=\"edge22\" class=\"edge\">\n<title>139929971869960&#45;&gt;139929944916992</title>\n<path fill=\"none\" stroke=\"#000000\" d=\"M431.6568,-63.9317C415.4155,-53.7411 390.621,-38.1838 371.9676,-26.4797\"/>\n<polygon fill=\"#000000\" stroke=\"#000000\" points=\"373.6991,-23.4342 363.3682,-21.084 369.9787,-29.3637 373.6991,-23.4342\"/>\n</g>\n<!-- 139930186529088 -->\n<g id=\"node24\" class=\"node\">\n<title>139930186529088</title>\n<polygon fill=\"#add8e6\" stroke=\"#000000\" points=\"477,-163 420,-163 420,-128 477,-128 477,-163\"/>\n<text text-anchor=\"middle\" x=\"448.5\" y=\"-135.4\" font-family=\"Times,serif\" font-size=\"12.00\" fill=\"#000000\"> (10, 32)</text>\n</g>\n<!-- 139930186529088&#45;&gt;139929971869960 -->\n<g id=\"edge23\" class=\"edge\">\n<title>139930186529088&#45;&gt;139929971869960</title>\n<path fill=\"none\" stroke=\"#000000\" d=\"M448.5,-127.9494C448.5,-118.058 448.5,-105.6435 448.5,-95.2693\"/>\n<polygon fill=\"#000000\" stroke=\"#000000\" points=\"452.0001,-95.0288 448.5,-85.0288 445.0001,-95.0289 452.0001,-95.0288\"/>\n</g>\n</g>\n</svg>\n"
          },
          "metadata": {
            "tags": []
          },
          "execution_count": 37
        }
      ]
    },
    {
      "cell_type": "code",
      "metadata": {
        "id": "24GEdil_T9e9",
        "colab_type": "code",
        "colab": {
          "base_uri": "https://localhost:8080/",
          "height": 1000
        },
        "outputId": "68b63577-6b4c-4e41-ece0-5616faf204bd"
      },
      "source": [
        "criterion = nn.CrossEntropyLoss()\n",
        "\n",
        "make_dot(criterion(model(imgs.cuda()), labels.cuda())) "
      ],
      "execution_count": null,
      "outputs": [
        {
          "output_type": "execute_result",
          "data": {
            "text/plain": [
              "<graphviz.dot.Digraph at 0x7f43a3f8d278>"
            ],
            "image/svg+xml": "<?xml version=\"1.0\" encoding=\"UTF-8\" standalone=\"no\"?>\n<!DOCTYPE svg PUBLIC \"-//W3C//DTD SVG 1.1//EN\"\n \"http://www.w3.org/Graphics/SVG/1.1/DTD/svg11.dtd\">\n<!-- Generated by graphviz version 2.40.1 (20161225.0304)\n -->\n<!-- Title: %3 Pages: 1 -->\n<svg width=\"489pt\" height=\"864pt\"\n viewBox=\"0.00 0.00 489.38 864.00\" xmlns=\"http://www.w3.org/2000/svg\" xmlns:xlink=\"http://www.w3.org/1999/xlink\">\n<g id=\"graph0\" class=\"graph\" transform=\"scale(.9484 .9484) rotate(0) translate(4 907)\">\n<title>%3</title>\n<polygon fill=\"#ffffff\" stroke=\"transparent\" points=\"-4,4 -4,-907 512,-907 512,4 -4,4\"/>\n<!-- 139928490531024 -->\n<g id=\"node1\" class=\"node\">\n<title>139928490531024</title>\n<polygon fill=\"#caff70\" stroke=\"#000000\" points=\"398,-21 295,-21 295,0 398,0 398,-21\"/>\n<text text-anchor=\"middle\" x=\"346.5\" y=\"-7.4\" font-family=\"Times,serif\" font-size=\"12.00\" fill=\"#000000\">NllLossBackward</text>\n</g>\n<!-- 139928490530968 -->\n<g id=\"node2\" class=\"node\">\n<title>139928490530968</title>\n<polygon fill=\"#d3d3d3\" stroke=\"#000000\" points=\"409,-78 284,-78 284,-57 409,-57 409,-78\"/>\n<text text-anchor=\"middle\" x=\"346.5\" y=\"-64.4\" font-family=\"Times,serif\" font-size=\"12.00\" fill=\"#000000\">LogSoftmaxBackward</text>\n</g>\n<!-- 139928490530968&#45;&gt;139928490531024 -->\n<g id=\"edge1\" class=\"edge\">\n<title>139928490530968&#45;&gt;139928490531024</title>\n<path fill=\"none\" stroke=\"#000000\" d=\"M346.5,-56.7787C346.5,-49.6134 346.5,-39.9517 346.5,-31.3097\"/>\n<polygon fill=\"#000000\" stroke=\"#000000\" points=\"350.0001,-31.1732 346.5,-21.1732 343.0001,-31.1732 350.0001,-31.1732\"/>\n</g>\n<!-- 139928490530576 -->\n<g id=\"node3\" class=\"node\">\n<title>139928490530576</title>\n<polygon fill=\"#d3d3d3\" stroke=\"#000000\" points=\"398.5,-135 294.5,-135 294.5,-114 398.5,-114 398.5,-135\"/>\n<text text-anchor=\"middle\" x=\"346.5\" y=\"-121.4\" font-family=\"Times,serif\" font-size=\"12.00\" fill=\"#000000\">AddmmBackward</text>\n</g>\n<!-- 139928490530576&#45;&gt;139928490530968 -->\n<g id=\"edge2\" class=\"edge\">\n<title>139928490530576&#45;&gt;139928490530968</title>\n<path fill=\"none\" stroke=\"#000000\" d=\"M346.5,-113.7787C346.5,-106.6134 346.5,-96.9517 346.5,-88.3097\"/>\n<polygon fill=\"#000000\" stroke=\"#000000\" points=\"350.0001,-88.1732 346.5,-78.1732 343.0001,-88.1732 350.0001,-88.1732\"/>\n</g>\n<!-- 139928490530408 -->\n<g id=\"node4\" class=\"node\">\n<title>139928490530408</title>\n<polygon fill=\"#add8e6\" stroke=\"#000000\" points=\"281.5,-206 227.5,-206 227.5,-171 281.5,-171 281.5,-206\"/>\n<text text-anchor=\"middle\" x=\"254.5\" y=\"-178.4\" font-family=\"Times,serif\" font-size=\"12.00\" fill=\"#000000\"> (10)</text>\n</g>\n<!-- 139928490530408&#45;&gt;139928490530576 -->\n<g id=\"edge3\" class=\"edge\">\n<title>139928490530408&#45;&gt;139928490530576</title>\n<path fill=\"none\" stroke=\"#000000\" d=\"M280.1271,-170.6724C293.5188,-161.3565 309.7974,-150.0322 322.8816,-140.9302\"/>\n<polygon fill=\"#000000\" stroke=\"#000000\" points=\"325.1445,-143.6197 331.3548,-135.0358 321.147,-137.8733 325.1445,-143.6197\"/>\n</g>\n<!-- 139928490532200 -->\n<g id=\"node5\" class=\"node\">\n<title>139928490532200</title>\n<polygon fill=\"#d3d3d3\" stroke=\"#000000\" points=\"393.5,-199 299.5,-199 299.5,-178 393.5,-178 393.5,-199\"/>\n<text text-anchor=\"middle\" x=\"346.5\" y=\"-185.4\" font-family=\"Times,serif\" font-size=\"12.00\" fill=\"#000000\">ReluBackward0</text>\n</g>\n<!-- 139928490532200&#45;&gt;139928490530576 -->\n<g id=\"edge4\" class=\"edge\">\n<title>139928490532200&#45;&gt;139928490530576</title>\n<path fill=\"none\" stroke=\"#000000\" d=\"M346.5,-177.9317C346.5,-169.0913 346.5,-156.2122 346.5,-145.3135\"/>\n<polygon fill=\"#000000\" stroke=\"#000000\" points=\"350.0001,-145.2979 346.5,-135.2979 343.0001,-145.2979 350.0001,-145.2979\"/>\n</g>\n<!-- 139928490531360 -->\n<g id=\"node6\" class=\"node\">\n<title>139928490531360</title>\n<polygon fill=\"#d3d3d3\" stroke=\"#000000\" points=\"398.5,-270 294.5,-270 294.5,-249 398.5,-249 398.5,-270\"/>\n<text text-anchor=\"middle\" x=\"346.5\" y=\"-256.4\" font-family=\"Times,serif\" font-size=\"12.00\" fill=\"#000000\">AddmmBackward</text>\n</g>\n<!-- 139928490531360&#45;&gt;139928490532200 -->\n<g id=\"edge5\" class=\"edge\">\n<title>139928490531360&#45;&gt;139928490532200</title>\n<path fill=\"none\" stroke=\"#000000\" d=\"M346.5,-248.7166C346.5,-238.3953 346.5,-222.5401 346.5,-209.6896\"/>\n<polygon fill=\"#000000\" stroke=\"#000000\" points=\"350.0001,-209.3848 346.5,-199.3849 343.0001,-209.3849 350.0001,-209.3848\"/>\n</g>\n<!-- 139928490531584 -->\n<g id=\"node7\" class=\"node\">\n<title>139928490531584</title>\n<polygon fill=\"#add8e6\" stroke=\"#000000\" points=\"282.5,-348 228.5,-348 228.5,-313 282.5,-313 282.5,-348\"/>\n<text text-anchor=\"middle\" x=\"255.5\" y=\"-320.4\" font-family=\"Times,serif\" font-size=\"12.00\" fill=\"#000000\"> (32)</text>\n</g>\n<!-- 139928490531584&#45;&gt;139928490531360 -->\n<g id=\"edge6\" class=\"edge\">\n<title>139928490531584&#45;&gt;139928490531360</title>\n<path fill=\"none\" stroke=\"#000000\" d=\"M277.9944,-312.9494C292.2906,-301.7952 310.6989,-287.4327 324.8325,-276.4054\"/>\n<polygon fill=\"#000000\" stroke=\"#000000\" points=\"327.2741,-278.9397 333.0053,-270.0288 322.9681,-273.4208 327.2741,-278.9397\"/>\n</g>\n<!-- 139928490532312 -->\n<g id=\"node8\" class=\"node\">\n<title>139928490532312</title>\n<polygon fill=\"#d3d3d3\" stroke=\"#000000\" points=\"392,-341 301,-341 301,-320 392,-320 392,-341\"/>\n<text text-anchor=\"middle\" x=\"346.5\" y=\"-327.4\" font-family=\"Times,serif\" font-size=\"12.00\" fill=\"#000000\">ViewBackward</text>\n</g>\n<!-- 139928490532312&#45;&gt;139928490531360 -->\n<g id=\"edge7\" class=\"edge\">\n<title>139928490532312&#45;&gt;139928490531360</title>\n<path fill=\"none\" stroke=\"#000000\" d=\"M346.5,-319.7166C346.5,-309.3953 346.5,-293.5401 346.5,-280.6896\"/>\n<polygon fill=\"#000000\" stroke=\"#000000\" points=\"350.0001,-280.3848 346.5,-270.3849 343.0001,-280.3849 350.0001,-280.3848\"/>\n</g>\n<!-- 139928490532536 -->\n<g id=\"node9\" class=\"node\">\n<title>139928490532536</title>\n<polygon fill=\"#d3d3d3\" stroke=\"#000000\" points=\"426.5,-412 246.5,-412 246.5,-391 426.5,-391 426.5,-412\"/>\n<text text-anchor=\"middle\" x=\"336.5\" y=\"-398.4\" font-family=\"Times,serif\" font-size=\"12.00\" fill=\"#000000\">MaxPool2DWithIndicesBackward</text>\n</g>\n<!-- 139928490532536&#45;&gt;139928490532312 -->\n<g id=\"edge8\" class=\"edge\">\n<title>139928490532536&#45;&gt;139928490532312</title>\n<path fill=\"none\" stroke=\"#000000\" d=\"M338.0188,-390.7166C339.4872,-380.291 341.7508,-364.2192 343.5703,-351.3011\"/>\n<polygon fill=\"#000000\" stroke=\"#000000\" points=\"347.0379,-351.7753 344.9669,-341.3849 340.1064,-350.7989 347.0379,-351.7753\"/>\n</g>\n<!-- 139928490532760 -->\n<g id=\"node10\" class=\"node\">\n<title>139928490532760</title>\n<polygon fill=\"#d3d3d3\" stroke=\"#000000\" points=\"383.5,-476 289.5,-476 289.5,-455 383.5,-455 383.5,-476\"/>\n<text text-anchor=\"middle\" x=\"336.5\" y=\"-462.4\" font-family=\"Times,serif\" font-size=\"12.00\" fill=\"#000000\">ReluBackward0</text>\n</g>\n<!-- 139928490532760&#45;&gt;139928490532536 -->\n<g id=\"edge9\" class=\"edge\">\n<title>139928490532760&#45;&gt;139928490532536</title>\n<path fill=\"none\" stroke=\"#000000\" d=\"M336.5,-454.9317C336.5,-446.0913 336.5,-433.2122 336.5,-422.3135\"/>\n<polygon fill=\"#000000\" stroke=\"#000000\" points=\"340.0001,-422.2979 336.5,-412.2979 333.0001,-422.2979 340.0001,-422.2979\"/>\n</g>\n<!-- 139928490528952 -->\n<g id=\"node11\" class=\"node\">\n<title>139928490528952</title>\n<polygon fill=\"#d3d3d3\" stroke=\"#000000\" points=\"382.5,-533 290.5,-533 290.5,-512 382.5,-512 382.5,-533\"/>\n<text text-anchor=\"middle\" x=\"336.5\" y=\"-519.4\" font-family=\"Times,serif\" font-size=\"12.00\" fill=\"#000000\">AddBackward0</text>\n</g>\n<!-- 139928490528952&#45;&gt;139928490532760 -->\n<g id=\"edge10\" class=\"edge\">\n<title>139928490528952&#45;&gt;139928490532760</title>\n<path fill=\"none\" stroke=\"#000000\" d=\"M336.5,-511.7787C336.5,-504.6134 336.5,-494.9517 336.5,-486.3097\"/>\n<polygon fill=\"#000000\" stroke=\"#000000\" points=\"340.0001,-486.1732 336.5,-476.1732 333.0001,-486.1732 340.0001,-486.1732\"/>\n</g>\n<!-- 139928489264520 -->\n<g id=\"node12\" class=\"node\">\n<title>139928489264520</title>\n<polygon fill=\"#d3d3d3\" stroke=\"#000000\" points=\"344,-590 187,-590 187,-569 344,-569 344,-590\"/>\n<text text-anchor=\"middle\" x=\"265.5\" y=\"-576.4\" font-family=\"Times,serif\" font-size=\"12.00\" fill=\"#000000\">CudnnConvolutionBackward</text>\n</g>\n<!-- 139928489264520&#45;&gt;139928490528952 -->\n<g id=\"edge11\" class=\"edge\">\n<title>139928489264520&#45;&gt;139928490528952</title>\n<path fill=\"none\" stroke=\"#000000\" d=\"M278.8546,-568.7787C289.069,-560.5784 303.3561,-549.1085 315.1511,-539.6393\"/>\n<polygon fill=\"#000000\" stroke=\"#000000\" points=\"317.5985,-542.1629 323.2053,-533.1732 313.2162,-536.7043 317.5985,-542.1629\"/>\n</g>\n<!-- 139928490528840 -->\n<g id=\"node13\" class=\"node\">\n<title>139928490528840</title>\n<polygon fill=\"#d3d3d3\" stroke=\"#000000\" points=\"239.5,-654 59.5,-654 59.5,-633 239.5,-633 239.5,-654\"/>\n<text text-anchor=\"middle\" x=\"149.5\" y=\"-640.4\" font-family=\"Times,serif\" font-size=\"12.00\" fill=\"#000000\">MaxPool2DWithIndicesBackward</text>\n</g>\n<!-- 139928490528840&#45;&gt;139928489264520 -->\n<g id=\"edge12\" class=\"edge\">\n<title>139928490528840&#45;&gt;139928489264520</title>\n<path fill=\"none\" stroke=\"#000000\" d=\"M168.655,-632.9317C187.3774,-622.6021 216.094,-606.7585 237.4007,-595.0031\"/>\n<polygon fill=\"#000000\" stroke=\"#000000\" points=\"239.2515,-597.9793 246.3165,-590.084 235.8699,-591.8503 239.2515,-597.9793\"/>\n</g>\n<!-- 139928490530240 -->\n<g id=\"node14\" class=\"node\">\n<title>139928490530240</title>\n<polygon fill=\"#d3d3d3\" stroke=\"#000000\" points=\"196.5,-718 102.5,-718 102.5,-697 196.5,-697 196.5,-718\"/>\n<text text-anchor=\"middle\" x=\"149.5\" y=\"-704.4\" font-family=\"Times,serif\" font-size=\"12.00\" fill=\"#000000\">ReluBackward0</text>\n</g>\n<!-- 139928490530240&#45;&gt;139928490528840 -->\n<g id=\"edge13\" class=\"edge\">\n<title>139928490530240&#45;&gt;139928490528840</title>\n<path fill=\"none\" stroke=\"#000000\" d=\"M149.5,-696.9317C149.5,-688.0913 149.5,-675.2122 149.5,-664.3135\"/>\n<polygon fill=\"#000000\" stroke=\"#000000\" points=\"153.0001,-664.2979 149.5,-654.2979 146.0001,-664.2979 153.0001,-664.2979\"/>\n</g>\n<!-- 139928490530016 -->\n<g id=\"node15\" class=\"node\">\n<title>139928490530016</title>\n<polygon fill=\"#d3d3d3\" stroke=\"#000000\" points=\"195.5,-775 103.5,-775 103.5,-754 195.5,-754 195.5,-775\"/>\n<text text-anchor=\"middle\" x=\"149.5\" y=\"-761.4\" font-family=\"Times,serif\" font-size=\"12.00\" fill=\"#000000\">AddBackward0</text>\n</g>\n<!-- 139928490530016&#45;&gt;139928490530240 -->\n<g id=\"edge14\" class=\"edge\">\n<title>139928490530016&#45;&gt;139928490530240</title>\n<path fill=\"none\" stroke=\"#000000\" d=\"M149.5,-753.7787C149.5,-746.6134 149.5,-736.9517 149.5,-728.3097\"/>\n<polygon fill=\"#000000\" stroke=\"#000000\" points=\"153.0001,-728.1732 149.5,-718.1732 146.0001,-728.1732 153.0001,-728.1732\"/>\n</g>\n<!-- 139928490529736 -->\n<g id=\"node16\" class=\"node\">\n<title>139928490529736</title>\n<polygon fill=\"#d3d3d3\" stroke=\"#000000\" points=\"157,-832 0,-832 0,-811 157,-811 157,-832\"/>\n<text text-anchor=\"middle\" x=\"78.5\" y=\"-818.4\" font-family=\"Times,serif\" font-size=\"12.00\" fill=\"#000000\">CudnnConvolutionBackward</text>\n</g>\n<!-- 139928490529736&#45;&gt;139928490530016 -->\n<g id=\"edge15\" class=\"edge\">\n<title>139928490529736&#45;&gt;139928490530016</title>\n<path fill=\"none\" stroke=\"#000000\" d=\"M91.8546,-810.7787C102.069,-802.5784 116.3561,-791.1085 128.1511,-781.6393\"/>\n<polygon fill=\"#000000\" stroke=\"#000000\" points=\"130.5985,-784.1629 136.2053,-775.1732 126.2162,-778.7043 130.5985,-784.1629\"/>\n</g>\n<!-- 139928490531416 -->\n<g id=\"node17\" class=\"node\">\n<title>139928490531416</title>\n<polygon fill=\"#add8e6\" stroke=\"#000000\" points=\"113,-903 44,-903 44,-868 113,-868 113,-903\"/>\n<text text-anchor=\"middle\" x=\"78.5\" y=\"-875.4\" font-family=\"Times,serif\" font-size=\"12.00\" fill=\"#000000\"> (5, 1, 5, 5)</text>\n</g>\n<!-- 139928490531416&#45;&gt;139928490529736 -->\n<g id=\"edge16\" class=\"edge\">\n<title>139928490531416&#45;&gt;139928490529736</title>\n<path fill=\"none\" stroke=\"#000000\" d=\"M78.5,-867.6724C78.5,-859.8405 78.5,-850.5893 78.5,-842.4323\"/>\n<polygon fill=\"#000000\" stroke=\"#000000\" points=\"82.0001,-842.2234 78.5,-832.2234 75.0001,-842.2235 82.0001,-842.2234\"/>\n</g>\n<!-- 139928490531640 -->\n<g id=\"node18\" class=\"node\">\n<title>139928490531640</title>\n<polygon fill=\"#d3d3d3\" stroke=\"#000000\" points=\"266,-832 175,-832 175,-811 266,-811 266,-832\"/>\n<text text-anchor=\"middle\" x=\"220.5\" y=\"-818.4\" font-family=\"Times,serif\" font-size=\"12.00\" fill=\"#000000\">ViewBackward</text>\n</g>\n<!-- 139928490531640&#45;&gt;139928490530016 -->\n<g id=\"edge17\" class=\"edge\">\n<title>139928490531640&#45;&gt;139928490530016</title>\n<path fill=\"none\" stroke=\"#000000\" d=\"M207.1454,-810.7787C196.931,-802.5784 182.6439,-791.1085 170.8489,-781.6393\"/>\n<polygon fill=\"#000000\" stroke=\"#000000\" points=\"172.7838,-778.7043 162.7947,-775.1732 168.4015,-784.1629 172.7838,-778.7043\"/>\n</g>\n<!-- 139928490531304 -->\n<g id=\"node19\" class=\"node\">\n<title>139928490531304</title>\n<polygon fill=\"#add8e6\" stroke=\"#000000\" points=\"247.5,-903 193.5,-903 193.5,-868 247.5,-868 247.5,-903\"/>\n<text text-anchor=\"middle\" x=\"220.5\" y=\"-875.4\" font-family=\"Times,serif\" font-size=\"12.00\" fill=\"#000000\"> (5)</text>\n</g>\n<!-- 139928490531304&#45;&gt;139928490531640 -->\n<g id=\"edge18\" class=\"edge\">\n<title>139928490531304&#45;&gt;139928490531640</title>\n<path fill=\"none\" stroke=\"#000000\" d=\"M220.5,-867.6724C220.5,-859.8405 220.5,-850.5893 220.5,-842.4323\"/>\n<polygon fill=\"#000000\" stroke=\"#000000\" points=\"224.0001,-842.2234 220.5,-832.2234 217.0001,-842.2235 224.0001,-842.2234\"/>\n</g>\n<!-- 139928490530464 -->\n<g id=\"node20\" class=\"node\">\n<title>139928490530464</title>\n<polygon fill=\"#add8e6\" stroke=\"#000000\" points=\"333,-661 258,-661 258,-626 333,-626 333,-661\"/>\n<text text-anchor=\"middle\" x=\"295.5\" y=\"-633.4\" font-family=\"Times,serif\" font-size=\"12.00\" fill=\"#000000\"> (10, 5, 5, 5)</text>\n</g>\n<!-- 139928490530464&#45;&gt;139928489264520 -->\n<g id=\"edge19\" class=\"edge\">\n<title>139928490530464&#45;&gt;139928489264520</title>\n<path fill=\"none\" stroke=\"#000000\" d=\"M287.1433,-625.6724C283.3053,-617.4845 278.74,-607.7453 274.7939,-599.327\"/>\n<polygon fill=\"#000000\" stroke=\"#000000\" points=\"277.9401,-597.7925 270.5266,-590.2234 271.6019,-600.7636 277.9401,-597.7925\"/>\n</g>\n<!-- 139928490529176 -->\n<g id=\"node21\" class=\"node\">\n<title>139928490529176</title>\n<polygon fill=\"#d3d3d3\" stroke=\"#000000\" points=\"453,-590 362,-590 362,-569 453,-569 453,-590\"/>\n<text text-anchor=\"middle\" x=\"407.5\" y=\"-576.4\" font-family=\"Times,serif\" font-size=\"12.00\" fill=\"#000000\">ViewBackward</text>\n</g>\n<!-- 139928490529176&#45;&gt;139928490528952 -->\n<g id=\"edge20\" class=\"edge\">\n<title>139928490529176&#45;&gt;139928490528952</title>\n<path fill=\"none\" stroke=\"#000000\" d=\"M394.1454,-568.7787C383.931,-560.5784 369.6439,-549.1085 357.8489,-539.6393\"/>\n<polygon fill=\"#000000\" stroke=\"#000000\" points=\"359.7838,-536.7043 349.7947,-533.1732 355.4015,-542.1629 359.7838,-536.7043\"/>\n</g>\n<!-- 139928490530352 -->\n<g id=\"node22\" class=\"node\">\n<title>139928490530352</title>\n<polygon fill=\"#add8e6\" stroke=\"#000000\" points=\"434.5,-661 380.5,-661 380.5,-626 434.5,-626 434.5,-661\"/>\n<text text-anchor=\"middle\" x=\"407.5\" y=\"-633.4\" font-family=\"Times,serif\" font-size=\"12.00\" fill=\"#000000\"> (10)</text>\n</g>\n<!-- 139928490530352&#45;&gt;139928490529176 -->\n<g id=\"edge21\" class=\"edge\">\n<title>139928490530352&#45;&gt;139928490529176</title>\n<path fill=\"none\" stroke=\"#000000\" d=\"M407.5,-625.6724C407.5,-617.8405 407.5,-608.5893 407.5,-600.4323\"/>\n<polygon fill=\"#000000\" stroke=\"#000000\" points=\"411.0001,-600.2234 407.5,-590.2234 404.0001,-600.2235 411.0001,-600.2234\"/>\n</g>\n<!-- 139928490532032 -->\n<g id=\"node23\" class=\"node\">\n<title>139928490532032</title>\n<polygon fill=\"#d3d3d3\" stroke=\"#000000\" points=\"503,-341 430,-341 430,-320 503,-320 503,-341\"/>\n<text text-anchor=\"middle\" x=\"466.5\" y=\"-327.4\" font-family=\"Times,serif\" font-size=\"12.00\" fill=\"#000000\">TBackward</text>\n</g>\n<!-- 139928490532032&#45;&gt;139928490531360 -->\n<g id=\"edge22\" class=\"edge\">\n<title>139928490532032&#45;&gt;139928490531360</title>\n<path fill=\"none\" stroke=\"#000000\" d=\"M448.5348,-319.8706C428.6518,-308.1065 396.3924,-289.0197 373.4728,-275.4589\"/>\n<polygon fill=\"#000000\" stroke=\"#000000\" points=\"374.9767,-272.282 364.588,-270.2021 371.4122,-278.3065 374.9767,-272.282\"/>\n</g>\n<!-- 139928490531920 -->\n<g id=\"node24\" class=\"node\">\n<title>139928490531920</title>\n<polygon fill=\"#add8e6\" stroke=\"#000000\" points=\"508,-419 445,-419 445,-384 508,-384 508,-419\"/>\n<text text-anchor=\"middle\" x=\"476.5\" y=\"-391.4\" font-family=\"Times,serif\" font-size=\"12.00\" fill=\"#000000\"> (32, 160)</text>\n</g>\n<!-- 139928490531920&#45;&gt;139928490532032 -->\n<g id=\"edge23\" class=\"edge\">\n<title>139928490531920&#45;&gt;139928490532032</title>\n<path fill=\"none\" stroke=\"#000000\" d=\"M474.0281,-383.9494C472.6201,-373.9527 470.8492,-361.3791 469.3787,-350.9389\"/>\n<polygon fill=\"#000000\" stroke=\"#000000\" points=\"472.8435,-350.4429 467.9829,-341.0288 465.9119,-351.4193 472.8435,-350.4429\"/>\n</g>\n<!-- 139928490532144 -->\n<g id=\"node25\" class=\"node\">\n<title>139928490532144</title>\n<polygon fill=\"#d3d3d3\" stroke=\"#000000\" points=\"485,-199 412,-199 412,-178 485,-178 485,-199\"/>\n<text text-anchor=\"middle\" x=\"448.5\" y=\"-185.4\" font-family=\"Times,serif\" font-size=\"12.00\" fill=\"#000000\">TBackward</text>\n</g>\n<!-- 139928490532144&#45;&gt;139928490530576 -->\n<g id=\"edge24\" class=\"edge\">\n<title>139928490532144&#45;&gt;139928490530576</title>\n<path fill=\"none\" stroke=\"#000000\" d=\"M431.6568,-177.9317C415.4155,-167.7411 390.621,-152.1838 371.9676,-140.4797\"/>\n<polygon fill=\"#000000\" stroke=\"#000000\" points=\"373.6991,-137.4342 363.3682,-135.084 369.9787,-143.3637 373.6991,-137.4342\"/>\n</g>\n<!-- 139928490531752 -->\n<g id=\"node26\" class=\"node\">\n<title>139928490531752</title>\n<polygon fill=\"#add8e6\" stroke=\"#000000\" points=\"477,-277 420,-277 420,-242 477,-242 477,-277\"/>\n<text text-anchor=\"middle\" x=\"448.5\" y=\"-249.4\" font-family=\"Times,serif\" font-size=\"12.00\" fill=\"#000000\"> (10, 32)</text>\n</g>\n<!-- 139928490531752&#45;&gt;139928490532144 -->\n<g id=\"edge25\" class=\"edge\">\n<title>139928490531752&#45;&gt;139928490532144</title>\n<path fill=\"none\" stroke=\"#000000\" d=\"M448.5,-241.9494C448.5,-232.058 448.5,-219.6435 448.5,-209.2693\"/>\n<polygon fill=\"#000000\" stroke=\"#000000\" points=\"452.0001,-209.0288 448.5,-199.0288 445.0001,-209.0289 452.0001,-209.0288\"/>\n</g>\n</g>\n</svg>\n"
          },
          "metadata": {
            "tags": []
          },
          "execution_count": 39
        }
      ]
    },
    {
      "cell_type": "code",
      "metadata": {
        "id": "tICJM03DU_Bs",
        "colab_type": "code",
        "colab": {
          "base_uri": "https://localhost:8080/",
          "height": 1000
        },
        "outputId": "733d7e1d-674d-405e-8754-160871d6002f"
      },
      "source": [
        "loss = criterion(model(imgs.cuda()), labels.cuda())\n",
        "make_dot(loss)"
      ],
      "execution_count": null,
      "outputs": [
        {
          "output_type": "execute_result",
          "data": {
            "text/plain": [
              "<graphviz.dot.Digraph at 0x7f43a3f8dbe0>"
            ],
            "image/svg+xml": "<?xml version=\"1.0\" encoding=\"UTF-8\" standalone=\"no\"?>\n<!DOCTYPE svg PUBLIC \"-//W3C//DTD SVG 1.1//EN\"\n \"http://www.w3.org/Graphics/SVG/1.1/DTD/svg11.dtd\">\n<!-- Generated by graphviz version 2.40.1 (20161225.0304)\n -->\n<!-- Title: %3 Pages: 1 -->\n<svg width=\"489pt\" height=\"864pt\"\n viewBox=\"0.00 0.00 489.38 864.00\" xmlns=\"http://www.w3.org/2000/svg\" xmlns:xlink=\"http://www.w3.org/1999/xlink\">\n<g id=\"graph0\" class=\"graph\" transform=\"scale(.9484 .9484) rotate(0) translate(4 907)\">\n<title>%3</title>\n<polygon fill=\"#ffffff\" stroke=\"transparent\" points=\"-4,4 -4,-907 512,-907 512,4 -4,4\"/>\n<!-- 139928490531472 -->\n<g id=\"node1\" class=\"node\">\n<title>139928490531472</title>\n<polygon fill=\"#caff70\" stroke=\"#000000\" points=\"398,-21 295,-21 295,0 398,0 398,-21\"/>\n<text text-anchor=\"middle\" x=\"346.5\" y=\"-7.4\" font-family=\"Times,serif\" font-size=\"12.00\" fill=\"#000000\">NllLossBackward</text>\n</g>\n<!-- 139928490403600 -->\n<g id=\"node2\" class=\"node\">\n<title>139928490403600</title>\n<polygon fill=\"#d3d3d3\" stroke=\"#000000\" points=\"409,-78 284,-78 284,-57 409,-57 409,-78\"/>\n<text text-anchor=\"middle\" x=\"346.5\" y=\"-64.4\" font-family=\"Times,serif\" font-size=\"12.00\" fill=\"#000000\">LogSoftmaxBackward</text>\n</g>\n<!-- 139928490403600&#45;&gt;139928490531472 -->\n<g id=\"edge1\" class=\"edge\">\n<title>139928490403600&#45;&gt;139928490531472</title>\n<path fill=\"none\" stroke=\"#000000\" d=\"M346.5,-56.7787C346.5,-49.6134 346.5,-39.9517 346.5,-31.3097\"/>\n<polygon fill=\"#000000\" stroke=\"#000000\" points=\"350.0001,-31.1732 346.5,-21.1732 343.0001,-31.1732 350.0001,-31.1732\"/>\n</g>\n<!-- 139928490404664 -->\n<g id=\"node3\" class=\"node\">\n<title>139928490404664</title>\n<polygon fill=\"#d3d3d3\" stroke=\"#000000\" points=\"398.5,-135 294.5,-135 294.5,-114 398.5,-114 398.5,-135\"/>\n<text text-anchor=\"middle\" x=\"346.5\" y=\"-121.4\" font-family=\"Times,serif\" font-size=\"12.00\" fill=\"#000000\">AddmmBackward</text>\n</g>\n<!-- 139928490404664&#45;&gt;139928490403600 -->\n<g id=\"edge2\" class=\"edge\">\n<title>139928490404664&#45;&gt;139928490403600</title>\n<path fill=\"none\" stroke=\"#000000\" d=\"M346.5,-113.7787C346.5,-106.6134 346.5,-96.9517 346.5,-88.3097\"/>\n<polygon fill=\"#000000\" stroke=\"#000000\" points=\"350.0001,-88.1732 346.5,-78.1732 343.0001,-88.1732 350.0001,-88.1732\"/>\n</g>\n<!-- 139928490405728 -->\n<g id=\"node4\" class=\"node\">\n<title>139928490405728</title>\n<polygon fill=\"#add8e6\" stroke=\"#000000\" points=\"281.5,-206 227.5,-206 227.5,-171 281.5,-171 281.5,-206\"/>\n<text text-anchor=\"middle\" x=\"254.5\" y=\"-178.4\" font-family=\"Times,serif\" font-size=\"12.00\" fill=\"#000000\"> (10)</text>\n</g>\n<!-- 139928490405728&#45;&gt;139928490404664 -->\n<g id=\"edge3\" class=\"edge\">\n<title>139928490405728&#45;&gt;139928490404664</title>\n<path fill=\"none\" stroke=\"#000000\" d=\"M280.1271,-170.6724C293.5188,-161.3565 309.7974,-150.0322 322.8816,-140.9302\"/>\n<polygon fill=\"#000000\" stroke=\"#000000\" points=\"325.1445,-143.6197 331.3548,-135.0358 321.147,-137.8733 325.1445,-143.6197\"/>\n</g>\n<!-- 139928490405672 -->\n<g id=\"node5\" class=\"node\">\n<title>139928490405672</title>\n<polygon fill=\"#d3d3d3\" stroke=\"#000000\" points=\"393.5,-199 299.5,-199 299.5,-178 393.5,-178 393.5,-199\"/>\n<text text-anchor=\"middle\" x=\"346.5\" y=\"-185.4\" font-family=\"Times,serif\" font-size=\"12.00\" fill=\"#000000\">ReluBackward0</text>\n</g>\n<!-- 139928490405672&#45;&gt;139928490404664 -->\n<g id=\"edge4\" class=\"edge\">\n<title>139928490405672&#45;&gt;139928490404664</title>\n<path fill=\"none\" stroke=\"#000000\" d=\"M346.5,-177.9317C346.5,-169.0913 346.5,-156.2122 346.5,-145.3135\"/>\n<polygon fill=\"#000000\" stroke=\"#000000\" points=\"350.0001,-145.2979 346.5,-135.2979 343.0001,-145.2979 350.0001,-145.2979\"/>\n</g>\n<!-- 139928490403432 -->\n<g id=\"node6\" class=\"node\">\n<title>139928490403432</title>\n<polygon fill=\"#d3d3d3\" stroke=\"#000000\" points=\"398.5,-270 294.5,-270 294.5,-249 398.5,-249 398.5,-270\"/>\n<text text-anchor=\"middle\" x=\"346.5\" y=\"-256.4\" font-family=\"Times,serif\" font-size=\"12.00\" fill=\"#000000\">AddmmBackward</text>\n</g>\n<!-- 139928490403432&#45;&gt;139928490405672 -->\n<g id=\"edge5\" class=\"edge\">\n<title>139928490403432&#45;&gt;139928490405672</title>\n<path fill=\"none\" stroke=\"#000000\" d=\"M346.5,-248.7166C346.5,-238.3953 346.5,-222.5401 346.5,-209.6896\"/>\n<polygon fill=\"#000000\" stroke=\"#000000\" points=\"350.0001,-209.3848 346.5,-199.3849 343.0001,-209.3849 350.0001,-209.3848\"/>\n</g>\n<!-- 139928490403712 -->\n<g id=\"node7\" class=\"node\">\n<title>139928490403712</title>\n<polygon fill=\"#add8e6\" stroke=\"#000000\" points=\"282.5,-348 228.5,-348 228.5,-313 282.5,-313 282.5,-348\"/>\n<text text-anchor=\"middle\" x=\"255.5\" y=\"-320.4\" font-family=\"Times,serif\" font-size=\"12.00\" fill=\"#000000\"> (32)</text>\n</g>\n<!-- 139928490403712&#45;&gt;139928490403432 -->\n<g id=\"edge6\" class=\"edge\">\n<title>139928490403712&#45;&gt;139928490403432</title>\n<path fill=\"none\" stroke=\"#000000\" d=\"M277.9944,-312.9494C292.2906,-301.7952 310.6989,-287.4327 324.8325,-276.4054\"/>\n<polygon fill=\"#000000\" stroke=\"#000000\" points=\"327.2741,-278.9397 333.0053,-270.0288 322.9681,-273.4208 327.2741,-278.9397\"/>\n</g>\n<!-- 139928490404776 -->\n<g id=\"node8\" class=\"node\">\n<title>139928490404776</title>\n<polygon fill=\"#d3d3d3\" stroke=\"#000000\" points=\"392,-341 301,-341 301,-320 392,-320 392,-341\"/>\n<text text-anchor=\"middle\" x=\"346.5\" y=\"-327.4\" font-family=\"Times,serif\" font-size=\"12.00\" fill=\"#000000\">ViewBackward</text>\n</g>\n<!-- 139928490404776&#45;&gt;139928490403432 -->\n<g id=\"edge7\" class=\"edge\">\n<title>139928490404776&#45;&gt;139928490403432</title>\n<path fill=\"none\" stroke=\"#000000\" d=\"M346.5,-319.7166C346.5,-309.3953 346.5,-293.5401 346.5,-280.6896\"/>\n<polygon fill=\"#000000\" stroke=\"#000000\" points=\"350.0001,-280.3848 346.5,-270.3849 343.0001,-280.3849 350.0001,-280.3848\"/>\n</g>\n<!-- 139928490404272 -->\n<g id=\"node9\" class=\"node\">\n<title>139928490404272</title>\n<polygon fill=\"#d3d3d3\" stroke=\"#000000\" points=\"426.5,-412 246.5,-412 246.5,-391 426.5,-391 426.5,-412\"/>\n<text text-anchor=\"middle\" x=\"336.5\" y=\"-398.4\" font-family=\"Times,serif\" font-size=\"12.00\" fill=\"#000000\">MaxPool2DWithIndicesBackward</text>\n</g>\n<!-- 139928490404272&#45;&gt;139928490404776 -->\n<g id=\"edge8\" class=\"edge\">\n<title>139928490404272&#45;&gt;139928490404776</title>\n<path fill=\"none\" stroke=\"#000000\" d=\"M338.0188,-390.7166C339.4872,-380.291 341.7508,-364.2192 343.5703,-351.3011\"/>\n<polygon fill=\"#000000\" stroke=\"#000000\" points=\"347.0379,-351.7753 344.9669,-341.3849 340.1064,-350.7989 347.0379,-351.7753\"/>\n</g>\n<!-- 139928490402144 -->\n<g id=\"node10\" class=\"node\">\n<title>139928490402144</title>\n<polygon fill=\"#d3d3d3\" stroke=\"#000000\" points=\"383.5,-476 289.5,-476 289.5,-455 383.5,-455 383.5,-476\"/>\n<text text-anchor=\"middle\" x=\"336.5\" y=\"-462.4\" font-family=\"Times,serif\" font-size=\"12.00\" fill=\"#000000\">ReluBackward0</text>\n</g>\n<!-- 139928490402144&#45;&gt;139928490404272 -->\n<g id=\"edge9\" class=\"edge\">\n<title>139928490402144&#45;&gt;139928490404272</title>\n<path fill=\"none\" stroke=\"#000000\" d=\"M336.5,-454.9317C336.5,-446.0913 336.5,-433.2122 336.5,-422.3135\"/>\n<polygon fill=\"#000000\" stroke=\"#000000\" points=\"340.0001,-422.2979 336.5,-412.2979 333.0001,-422.2979 340.0001,-422.2979\"/>\n</g>\n<!-- 139928490404552 -->\n<g id=\"node11\" class=\"node\">\n<title>139928490404552</title>\n<polygon fill=\"#d3d3d3\" stroke=\"#000000\" points=\"382.5,-533 290.5,-533 290.5,-512 382.5,-512 382.5,-533\"/>\n<text text-anchor=\"middle\" x=\"336.5\" y=\"-519.4\" font-family=\"Times,serif\" font-size=\"12.00\" fill=\"#000000\">AddBackward0</text>\n</g>\n<!-- 139928490404552&#45;&gt;139928490402144 -->\n<g id=\"edge10\" class=\"edge\">\n<title>139928490404552&#45;&gt;139928490402144</title>\n<path fill=\"none\" stroke=\"#000000\" d=\"M336.5,-511.7787C336.5,-504.6134 336.5,-494.9517 336.5,-486.3097\"/>\n<polygon fill=\"#000000\" stroke=\"#000000\" points=\"340.0001,-486.1732 336.5,-476.1732 333.0001,-486.1732 340.0001,-486.1732\"/>\n</g>\n<!-- 139928490402928 -->\n<g id=\"node12\" class=\"node\">\n<title>139928490402928</title>\n<polygon fill=\"#d3d3d3\" stroke=\"#000000\" points=\"344,-590 187,-590 187,-569 344,-569 344,-590\"/>\n<text text-anchor=\"middle\" x=\"265.5\" y=\"-576.4\" font-family=\"Times,serif\" font-size=\"12.00\" fill=\"#000000\">CudnnConvolutionBackward</text>\n</g>\n<!-- 139928490402928&#45;&gt;139928490404552 -->\n<g id=\"edge11\" class=\"edge\">\n<title>139928490402928&#45;&gt;139928490404552</title>\n<path fill=\"none\" stroke=\"#000000\" d=\"M278.8546,-568.7787C289.069,-560.5784 303.3561,-549.1085 315.1511,-539.6393\"/>\n<polygon fill=\"#000000\" stroke=\"#000000\" points=\"317.5985,-542.1629 323.2053,-533.1732 313.2162,-536.7043 317.5985,-542.1629\"/>\n</g>\n<!-- 139928490403152 -->\n<g id=\"node13\" class=\"node\">\n<title>139928490403152</title>\n<polygon fill=\"#d3d3d3\" stroke=\"#000000\" points=\"239.5,-654 59.5,-654 59.5,-633 239.5,-633 239.5,-654\"/>\n<text text-anchor=\"middle\" x=\"149.5\" y=\"-640.4\" font-family=\"Times,serif\" font-size=\"12.00\" fill=\"#000000\">MaxPool2DWithIndicesBackward</text>\n</g>\n<!-- 139928490403152&#45;&gt;139928490402928 -->\n<g id=\"edge12\" class=\"edge\">\n<title>139928490403152&#45;&gt;139928490402928</title>\n<path fill=\"none\" stroke=\"#000000\" d=\"M168.655,-632.9317C187.3774,-622.6021 216.094,-606.7585 237.4007,-595.0031\"/>\n<polygon fill=\"#000000\" stroke=\"#000000\" points=\"239.2515,-597.9793 246.3165,-590.084 235.8699,-591.8503 239.2515,-597.9793\"/>\n</g>\n<!-- 139928490402592 -->\n<g id=\"node14\" class=\"node\">\n<title>139928490402592</title>\n<polygon fill=\"#d3d3d3\" stroke=\"#000000\" points=\"196.5,-718 102.5,-718 102.5,-697 196.5,-697 196.5,-718\"/>\n<text text-anchor=\"middle\" x=\"149.5\" y=\"-704.4\" font-family=\"Times,serif\" font-size=\"12.00\" fill=\"#000000\">ReluBackward0</text>\n</g>\n<!-- 139928490402592&#45;&gt;139928490403152 -->\n<g id=\"edge13\" class=\"edge\">\n<title>139928490402592&#45;&gt;139928490403152</title>\n<path fill=\"none\" stroke=\"#000000\" d=\"M149.5,-696.9317C149.5,-688.0913 149.5,-675.2122 149.5,-664.3135\"/>\n<polygon fill=\"#000000\" stroke=\"#000000\" points=\"153.0001,-664.2979 149.5,-654.2979 146.0001,-664.2979 153.0001,-664.2979\"/>\n</g>\n<!-- 139928490402704 -->\n<g id=\"node15\" class=\"node\">\n<title>139928490402704</title>\n<polygon fill=\"#d3d3d3\" stroke=\"#000000\" points=\"195.5,-775 103.5,-775 103.5,-754 195.5,-754 195.5,-775\"/>\n<text text-anchor=\"middle\" x=\"149.5\" y=\"-761.4\" font-family=\"Times,serif\" font-size=\"12.00\" fill=\"#000000\">AddBackward0</text>\n</g>\n<!-- 139928490402704&#45;&gt;139928490402592 -->\n<g id=\"edge14\" class=\"edge\">\n<title>139928490402704&#45;&gt;139928490402592</title>\n<path fill=\"none\" stroke=\"#000000\" d=\"M149.5,-753.7787C149.5,-746.6134 149.5,-736.9517 149.5,-728.3097\"/>\n<polygon fill=\"#000000\" stroke=\"#000000\" points=\"153.0001,-728.1732 149.5,-718.1732 146.0001,-728.1732 153.0001,-728.1732\"/>\n</g>\n<!-- 139928490402032 -->\n<g id=\"node16\" class=\"node\">\n<title>139928490402032</title>\n<polygon fill=\"#d3d3d3\" stroke=\"#000000\" points=\"157,-832 0,-832 0,-811 157,-811 157,-832\"/>\n<text text-anchor=\"middle\" x=\"78.5\" y=\"-818.4\" font-family=\"Times,serif\" font-size=\"12.00\" fill=\"#000000\">CudnnConvolutionBackward</text>\n</g>\n<!-- 139928490402032&#45;&gt;139928490402704 -->\n<g id=\"edge15\" class=\"edge\">\n<title>139928490402032&#45;&gt;139928490402704</title>\n<path fill=\"none\" stroke=\"#000000\" d=\"M91.8546,-810.7787C102.069,-802.5784 116.3561,-791.1085 128.1511,-781.6393\"/>\n<polygon fill=\"#000000\" stroke=\"#000000\" points=\"130.5985,-784.1629 136.2053,-775.1732 126.2162,-778.7043 130.5985,-784.1629\"/>\n</g>\n<!-- 139928490403992 -->\n<g id=\"node17\" class=\"node\">\n<title>139928490403992</title>\n<polygon fill=\"#add8e6\" stroke=\"#000000\" points=\"113,-903 44,-903 44,-868 113,-868 113,-903\"/>\n<text text-anchor=\"middle\" x=\"78.5\" y=\"-875.4\" font-family=\"Times,serif\" font-size=\"12.00\" fill=\"#000000\"> (5, 1, 5, 5)</text>\n</g>\n<!-- 139928490403992&#45;&gt;139928490402032 -->\n<g id=\"edge16\" class=\"edge\">\n<title>139928490403992&#45;&gt;139928490402032</title>\n<path fill=\"none\" stroke=\"#000000\" d=\"M78.5,-867.6724C78.5,-859.8405 78.5,-850.5893 78.5,-842.4323\"/>\n<polygon fill=\"#000000\" stroke=\"#000000\" points=\"82.0001,-842.2234 78.5,-832.2234 75.0001,-842.2235 82.0001,-842.2234\"/>\n</g>\n<!-- 139928490402872 -->\n<g id=\"node18\" class=\"node\">\n<title>139928490402872</title>\n<polygon fill=\"#d3d3d3\" stroke=\"#000000\" points=\"266,-832 175,-832 175,-811 266,-811 266,-832\"/>\n<text text-anchor=\"middle\" x=\"220.5\" y=\"-818.4\" font-family=\"Times,serif\" font-size=\"12.00\" fill=\"#000000\">ViewBackward</text>\n</g>\n<!-- 139928490402872&#45;&gt;139928490402704 -->\n<g id=\"edge17\" class=\"edge\">\n<title>139928490402872&#45;&gt;139928490402704</title>\n<path fill=\"none\" stroke=\"#000000\" d=\"M207.1454,-810.7787C196.931,-802.5784 182.6439,-791.1085 170.8489,-781.6393\"/>\n<polygon fill=\"#000000\" stroke=\"#000000\" points=\"172.7838,-778.7043 162.7947,-775.1732 168.4015,-784.1629 172.7838,-778.7043\"/>\n</g>\n<!-- 139928490404104 -->\n<g id=\"node19\" class=\"node\">\n<title>139928490404104</title>\n<polygon fill=\"#add8e6\" stroke=\"#000000\" points=\"247.5,-903 193.5,-903 193.5,-868 247.5,-868 247.5,-903\"/>\n<text text-anchor=\"middle\" x=\"220.5\" y=\"-875.4\" font-family=\"Times,serif\" font-size=\"12.00\" fill=\"#000000\"> (5)</text>\n</g>\n<!-- 139928490404104&#45;&gt;139928490402872 -->\n<g id=\"edge18\" class=\"edge\">\n<title>139928490404104&#45;&gt;139928490402872</title>\n<path fill=\"none\" stroke=\"#000000\" d=\"M220.5,-867.6724C220.5,-859.8405 220.5,-850.5893 220.5,-842.4323\"/>\n<polygon fill=\"#000000\" stroke=\"#000000\" points=\"224.0001,-842.2234 220.5,-832.2234 217.0001,-842.2235 224.0001,-842.2234\"/>\n</g>\n<!-- 139928490403264 -->\n<g id=\"node20\" class=\"node\">\n<title>139928490403264</title>\n<polygon fill=\"#add8e6\" stroke=\"#000000\" points=\"333,-661 258,-661 258,-626 333,-626 333,-661\"/>\n<text text-anchor=\"middle\" x=\"295.5\" y=\"-633.4\" font-family=\"Times,serif\" font-size=\"12.00\" fill=\"#000000\"> (10, 5, 5, 5)</text>\n</g>\n<!-- 139928490403264&#45;&gt;139928490402928 -->\n<g id=\"edge19\" class=\"edge\">\n<title>139928490403264&#45;&gt;139928490402928</title>\n<path fill=\"none\" stroke=\"#000000\" d=\"M287.1433,-625.6724C283.3053,-617.4845 278.74,-607.7453 274.7939,-599.327\"/>\n<polygon fill=\"#000000\" stroke=\"#000000\" points=\"277.9401,-597.7925 270.5266,-590.2234 271.6019,-600.7636 277.9401,-597.7925\"/>\n</g>\n<!-- 139928490403040 -->\n<g id=\"node21\" class=\"node\">\n<title>139928490403040</title>\n<polygon fill=\"#d3d3d3\" stroke=\"#000000\" points=\"453,-590 362,-590 362,-569 453,-569 453,-590\"/>\n<text text-anchor=\"middle\" x=\"407.5\" y=\"-576.4\" font-family=\"Times,serif\" font-size=\"12.00\" fill=\"#000000\">ViewBackward</text>\n</g>\n<!-- 139928490403040&#45;&gt;139928490404552 -->\n<g id=\"edge20\" class=\"edge\">\n<title>139928490403040&#45;&gt;139928490404552</title>\n<path fill=\"none\" stroke=\"#000000\" d=\"M394.1454,-568.7787C383.931,-560.5784 369.6439,-549.1085 357.8489,-539.6393\"/>\n<polygon fill=\"#000000\" stroke=\"#000000\" points=\"359.7838,-536.7043 349.7947,-533.1732 355.4015,-542.1629 359.7838,-536.7043\"/>\n</g>\n<!-- 139928490403096 -->\n<g id=\"node22\" class=\"node\">\n<title>139928490403096</title>\n<polygon fill=\"#add8e6\" stroke=\"#000000\" points=\"434.5,-661 380.5,-661 380.5,-626 434.5,-626 434.5,-661\"/>\n<text text-anchor=\"middle\" x=\"407.5\" y=\"-633.4\" font-family=\"Times,serif\" font-size=\"12.00\" fill=\"#000000\"> (10)</text>\n</g>\n<!-- 139928490403096&#45;&gt;139928490403040 -->\n<g id=\"edge21\" class=\"edge\">\n<title>139928490403096&#45;&gt;139928490403040</title>\n<path fill=\"none\" stroke=\"#000000\" d=\"M407.5,-625.6724C407.5,-617.8405 407.5,-608.5893 407.5,-600.4323\"/>\n<polygon fill=\"#000000\" stroke=\"#000000\" points=\"411.0001,-600.2234 407.5,-590.2234 404.0001,-600.2235 411.0001,-600.2234\"/>\n</g>\n<!-- 139928490403320 -->\n<g id=\"node23\" class=\"node\">\n<title>139928490403320</title>\n<polygon fill=\"#d3d3d3\" stroke=\"#000000\" points=\"503,-341 430,-341 430,-320 503,-320 503,-341\"/>\n<text text-anchor=\"middle\" x=\"466.5\" y=\"-327.4\" font-family=\"Times,serif\" font-size=\"12.00\" fill=\"#000000\">TBackward</text>\n</g>\n<!-- 139928490403320&#45;&gt;139928490403432 -->\n<g id=\"edge22\" class=\"edge\">\n<title>139928490403320&#45;&gt;139928490403432</title>\n<path fill=\"none\" stroke=\"#000000\" d=\"M448.5348,-319.8706C428.6518,-308.1065 396.3924,-289.0197 373.4728,-275.4589\"/>\n<polygon fill=\"#000000\" stroke=\"#000000\" points=\"374.9767,-272.282 364.588,-270.2021 371.4122,-278.3065 374.9767,-272.282\"/>\n</g>\n<!-- 139928490404384 -->\n<g id=\"node24\" class=\"node\">\n<title>139928490404384</title>\n<polygon fill=\"#add8e6\" stroke=\"#000000\" points=\"508,-419 445,-419 445,-384 508,-384 508,-419\"/>\n<text text-anchor=\"middle\" x=\"476.5\" y=\"-391.4\" font-family=\"Times,serif\" font-size=\"12.00\" fill=\"#000000\"> (32, 160)</text>\n</g>\n<!-- 139928490404384&#45;&gt;139928490403320 -->\n<g id=\"edge23\" class=\"edge\">\n<title>139928490404384&#45;&gt;139928490403320</title>\n<path fill=\"none\" stroke=\"#000000\" d=\"M474.0281,-383.9494C472.6201,-373.9527 470.8492,-361.3791 469.3787,-350.9389\"/>\n<polygon fill=\"#000000\" stroke=\"#000000\" points=\"472.8435,-350.4429 467.9829,-341.0288 465.9119,-351.4193 472.8435,-350.4429\"/>\n</g>\n<!-- 139928490402536 -->\n<g id=\"node25\" class=\"node\">\n<title>139928490402536</title>\n<polygon fill=\"#d3d3d3\" stroke=\"#000000\" points=\"485,-199 412,-199 412,-178 485,-178 485,-199\"/>\n<text text-anchor=\"middle\" x=\"448.5\" y=\"-185.4\" font-family=\"Times,serif\" font-size=\"12.00\" fill=\"#000000\">TBackward</text>\n</g>\n<!-- 139928490402536&#45;&gt;139928490404664 -->\n<g id=\"edge24\" class=\"edge\">\n<title>139928490402536&#45;&gt;139928490404664</title>\n<path fill=\"none\" stroke=\"#000000\" d=\"M431.6568,-177.9317C415.4155,-167.7411 390.621,-152.1838 371.9676,-140.4797\"/>\n<polygon fill=\"#000000\" stroke=\"#000000\" points=\"373.6991,-137.4342 363.3682,-135.084 369.9787,-143.3637 373.6991,-137.4342\"/>\n</g>\n<!-- 139928490404496 -->\n<g id=\"node26\" class=\"node\">\n<title>139928490404496</title>\n<polygon fill=\"#add8e6\" stroke=\"#000000\" points=\"477,-277 420,-277 420,-242 477,-242 477,-277\"/>\n<text text-anchor=\"middle\" x=\"448.5\" y=\"-249.4\" font-family=\"Times,serif\" font-size=\"12.00\" fill=\"#000000\"> (10, 32)</text>\n</g>\n<!-- 139928490404496&#45;&gt;139928490402536 -->\n<g id=\"edge25\" class=\"edge\">\n<title>139928490404496&#45;&gt;139928490402536</title>\n<path fill=\"none\" stroke=\"#000000\" d=\"M448.5,-241.9494C448.5,-232.058 448.5,-219.6435 448.5,-209.2693\"/>\n<polygon fill=\"#000000\" stroke=\"#000000\" points=\"452.0001,-209.0288 448.5,-199.0288 445.0001,-209.0289 452.0001,-209.0288\"/>\n</g>\n</g>\n</svg>\n"
          },
          "metadata": {
            "tags": []
          },
          "execution_count": 42
        }
      ]
    },
    {
      "cell_type": "code",
      "metadata": {
        "id": "y3XTdt4TVeqg",
        "colab_type": "code",
        "colab": {}
      },
      "source": [
        ""
      ],
      "execution_count": null,
      "outputs": []
    }
  ]
}