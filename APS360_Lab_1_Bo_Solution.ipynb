{
  "nbformat": 4,
  "nbformat_minor": 0,
  "metadata": {
    "colab": {
      "name": "APS360_Lab_1_Bo_Solution.ipynb",
      "provenance": [],
      "authorship_tag": "ABX9TyN9XF+LuZ07ueghGUzIktY7",
      "include_colab_link": true
    },
    "kernelspec": {
      "name": "python3",
      "display_name": "Python 3"
    }
  },
  "cells": [
    {
      "cell_type": "markdown",
      "metadata": {
        "id": "view-in-github",
        "colab_type": "text"
      },
      "source": [
        "<a href=\"https://colab.research.google.com/github/Bonado/APS360/blob/master/APS360_Lab_1_Bo_Solution.ipynb\" target=\"_parent\"><img src=\"https://colab.research.google.com/assets/colab-badge.svg\" alt=\"Open In Colab\"/></a>"
      ]
    },
    {
      "cell_type": "code",
      "metadata": {
        "id": "tBn-CsqlBu1d",
        "colab_type": "code",
        "colab": {
          "base_uri": "https://localhost:8080/"
        },
        "outputId": "1ff7f4b4-8d72-484d-f4ab-23f915e19d17"
      },
      "source": [
        "import numpy as np\n",
        "from time import time\n",
        "from functools import wraps\n",
        "import logging\n",
        "\n",
        "def timed(foo):\n",
        "    @wraps(foo)\n",
        "    def bar(*a, **kw):\n",
        "        s = time()\n",
        "        foo(*a, **kw)\n",
        "        e = time()\n",
        "        print('%f sec' % (e - s))\n",
        "    return bar\n",
        "\n",
        "@timed\n",
        "def sum_of_cubes(n):\n",
        "  if type(n) is not int or n < 1:\n",
        "    if n < 1: \n",
        "      raise Exception('n = {} is not a valid input'.format(n))\n",
        "      return -1\n",
        "    elif n - int(n) == 0:\n",
        "        sum = 0\n",
        "        while n >= 1:\n",
        "          sum += n**3\n",
        "          n = n - 1\n",
        "        return int(sum)\n",
        "    else:     \n",
        "      return -1\n",
        "  else:     \n",
        "    sum = 0\n",
        "    while n >= 1:\n",
        "      sum += n**3\n",
        "      n = n - 1\n",
        "  return sum\n",
        "\n",
        "def main():\n",
        "  sum_of_cubes(3)\n",
        "\n",
        "main()"
      ],
      "execution_count": null,
      "outputs": [
        {
          "output_type": "stream",
          "text": [
            "0.000004 sec\n"
          ],
          "name": "stdout"
        }
      ]
    },
    {
      "cell_type": "code",
      "metadata": {
        "id": "fSljXrrmEXBZ",
        "colab_type": "code",
        "colab": {}
      },
      "source": [
        "def word_lengths(sentence):\n",
        "  list_of_words = sentence.split()\n",
        "  list_of_lengths = []\n",
        "  for word in list_of_words:\n",
        "     list_of_lengths.extend([len(word)])\n",
        "  return list_of_lengths"
      ],
      "execution_count": null,
      "outputs": []
    },
    {
      "cell_type": "code",
      "metadata": {
        "id": "NIt7cs57h8AL",
        "colab_type": "code",
        "colab": {}
      },
      "source": [
        "import numpy.matlib\n",
        "\n",
        "def all_same_length(sentence):\n",
        "  list_of_words = sentence.split()\n",
        "  list_of_lengths = []\n",
        "  for word in list_of_words:\n",
        "    list_of_lengths.extend([len(word)])\n",
        "\n",
        "  new_list = [list_of_lengths[0]]*len(list_of_lengths)\n",
        "  print(list_of_lengths)\n",
        "  print(new_list)\n",
        "  if new_list == list_of_lengths:\n",
        "    return True\n",
        "  else:\n",
        "    return False    "
      ],
      "execution_count": null,
      "outputs": []
    },
    {
      "cell_type": "code",
      "metadata": {
        "id": "-YOw_KQijv0Q",
        "colab_type": "code",
        "colab": {}
      },
      "source": [
        ""
      ],
      "execution_count": null,
      "outputs": []
    },
    {
      "cell_type": "code",
      "metadata": {
        "id": "bt0khr5dKBwP",
        "colab_type": "code",
        "colab": {}
      },
      "source": [
        "matrix = np.array([[1., 2., 3., 0.5],\n",
        "                   [4., 5., 0., 0.],\n",
        "                   [-1., -2., 1., 1.]])\n",
        "vector = np.array([2., 0., 1., -2.])"
      ],
      "execution_count": null,
      "outputs": []
    },
    {
      "cell_type": "code",
      "metadata": {
        "id": "shmtwvDNNZ5l",
        "colab_type": "code",
        "colab": {
          "base_uri": "https://localhost:8080/"
        },
        "outputId": "6c953452-521a-41cd-f651-bcabde81eb8b"
      },
      "source": [
        "matrix.size #this prints = total elements in the matrix\n",
        "matrix.shape\n",
        "vector.size\n",
        "vector.shape"
      ],
      "execution_count": null,
      "outputs": [
        {
          "output_type": "execute_result",
          "data": {
            "text/plain": [
              "(4,)"
            ]
          },
          "metadata": {
            "tags": []
          },
          "execution_count": 8
        }
      ]
    },
    {
      "cell_type": "code",
      "metadata": {
        "id": "xuX0fcEdNj-g",
        "colab_type": "code",
        "colab": {
          "base_uri": "https://localhost:8080/"
        },
        "outputId": "9a8775f4-cfe3-4ba1-df71-16fe1491992a"
      },
      "source": [
        "import time\n",
        "# record the time before running code\n",
        "start_time = time.time()\n",
        "\n",
        "# place code to run here\n",
        "for i in range(10000):\n",
        "    99*99\n",
        "    \n",
        "# record the time after the code is run\n",
        "end_time = time.time()\n",
        "\n",
        "# compute the difference\n",
        "diff = end_time - start_time\n",
        "diff"
      ],
      "execution_count": null,
      "outputs": [
        {
          "output_type": "execute_result",
          "data": {
            "text/plain": [
              "0.0007121562957763672"
            ]
          },
          "metadata": {
            "tags": []
          },
          "execution_count": 9
        }
      ]
    },
    {
      "cell_type": "code",
      "metadata": {
        "id": "AAIK6cbzWXPR",
        "colab_type": "code",
        "colab": {}
      },
      "source": [
        "class AddBias(object): #new class called Addbias and inherts from the class object\n",
        "  def __init__(self,val):\n",
        "    self.val = val\n",
        "    \n",
        "  def __call__(self, input):\n",
        "    return self.val + input "
      ],
      "execution_count": null,
      "outputs": []
    },
    {
      "cell_type": "code",
      "metadata": {
        "id": "0mnib1zOWn1_",
        "colab_type": "code",
        "colab": {
          "base_uri": "https://localhost:8080/"
        },
        "outputId": "baa62aec-7a7c-4268-bc0c-3ab8ebaa74fe"
      },
      "source": [
        "add1 = AddBias(1)\n",
        "add1(np.array([3,4,5]))"
      ],
      "execution_count": null,
      "outputs": [
        {
          "output_type": "execute_result",
          "data": {
            "text/plain": [
              "array([4, 5, 6])"
            ]
          },
          "metadata": {
            "tags": []
          },
          "execution_count": 11
        }
      ]
    },
    {
      "cell_type": "code",
      "metadata": {
        "id": "BvrNOFSDXgpF",
        "colab_type": "code",
        "colab": {}
      },
      "source": [
        "class ElementwiseMultiply:\n",
        "  def __init__(self, weight):\n",
        "    self.weight = weight\n",
        "\n",
        "  def __call__(self, input):\n",
        "    if input.shape == self.weight.shape:\n",
        "      return np.multiply(input, self.weight)\n",
        "    else:\n",
        "      return None"
      ],
      "execution_count": null,
      "outputs": []
    },
    {
      "cell_type": "code",
      "metadata": {
        "id": "3qfipjAdb00L",
        "colab_type": "code",
        "colab": {
          "base_uri": "https://localhost:8080/"
        },
        "outputId": "10a1aeb8-7014-433d-f577-a86a79d5c457"
      },
      "source": [
        "new = ElementwiseMultiply(np.array([1, 2, 3]))\n",
        "print(new(np.array([2,3,4, 9])))"
      ],
      "execution_count": null,
      "outputs": [
        {
          "output_type": "stream",
          "text": [
            "None\n"
          ],
          "name": "stdout"
        }
      ]
    },
    {
      "cell_type": "code",
      "metadata": {
        "id": "udC2Ju26bUJb",
        "colab_type": "code",
        "colab": {}
      },
      "source": [
        "class LeakyRelu:\n",
        "  def __init__(self, alpha):\n",
        "    self.alpha = alpha\n",
        "\n",
        "  def __call__(self, input):\n",
        "    input = np.asarray(input, dtype = np.float64)\n",
        "\n",
        "    if input.ndim == 0:\n",
        "      input = input[np.newaxis]\n",
        "      print(input)\n",
        "\n",
        "    input[input<0] = np.multiply(input[input <0], self.alpha) #multiply all element less than 0 with alpha\n",
        "    \n",
        "    if input.ndim == 1:\n",
        "      return np.squeeze(input)\n",
        "\n",
        "    return input"
      ],
      "execution_count": null,
      "outputs": []
    },
    {
      "cell_type": "code",
      "metadata": {
        "id": "2Ipv3f63c8hY",
        "colab_type": "code",
        "colab": {
          "base_uri": "https://localhost:8080/"
        },
        "outputId": "8f955cbb-796f-4105-a9cf-11d9ffe05e11"
      },
      "source": [
        "leaky_relu = LeakyRelu(0.1)\n",
        "print(leaky_relu(-1))\n",
        "leaky_relu([[1,-1, -4, -5, 2], [4/5,-20, -44, 35, -2.39]])"
      ],
      "execution_count": null,
      "outputs": [
        {
          "output_type": "stream",
          "text": [
            "[-1.]\n",
            "-0.1\n"
          ],
          "name": "stdout"
        },
        {
          "output_type": "execute_result",
          "data": {
            "text/plain": [
              "array([[ 1.   , -0.1  , -0.4  , -0.5  ,  2.   ],\n",
              "       [ 0.8  , -2.   , -4.4  , 35.   , -0.239]])"
            ]
          },
          "metadata": {
            "tags": []
          },
          "execution_count": 15
        }
      ]
    },
    {
      "cell_type": "code",
      "metadata": {
        "id": "GR7PRUAJ8EJh",
        "colab_type": "code",
        "colab": {}
      },
      "source": [
        "class Compose:\n",
        "  def __init__(self, layers):\n",
        "    self.layers = layers\n",
        "\n",
        "  def __call__(self, Input):\n",
        "      output = Input\n",
        "      print(output)\n",
        "      for i in range(0, len(self.layers)):\n",
        "        print(output)\n",
        "        output = self.layers[i](output)\n",
        "      return output"
      ],
      "execution_count": null,
      "outputs": []
    },
    {
      "cell_type": "code",
      "metadata": {
        "id": "XVoJCVpSurbE",
        "colab_type": "code",
        "colab": {
          "base_uri": "https://localhost:8080/"
        },
        "outputId": "2daca8c2-94bf-44b8-ab4b-5ad28d8e87e4"
      },
      "source": [
        "weight_1 = np.array([1, 2, 3, 4.])\n",
        "weight_2 = np.array([-1, -2, -3, -4.])\n",
        "bias_1 = 3.0\n",
        "bias_2 = -2.0\n",
        "alpha = 0.1\n",
        "\n",
        "elem_mult_1 = ElementwiseMultiply(weight_1)\n",
        "add_bias_1 = AddBias(bias_1)\n",
        "leaky_relu = LeakyRelu(alpha)\n",
        "elem_mult_2 = ElementwiseMultiply(weight_2)\n",
        "add_bias_2 = AddBias(bias_2)\n",
        "layers = Compose([elem_mult_1, \n",
        "                  add_bias_1, \n",
        "                  leaky_relu,\n",
        "                  elem_mult_2, \n",
        "                  add_bias_2, \n",
        "                  leaky_relu])\n",
        "\n",
        "input = np.array([10, 5, -5, -10.])\n",
        "print(\"Input: \", input)\n",
        "\n",
        "output = layers(input)\n",
        "print(\"Output:\", output)"
      ],
      "execution_count": null,
      "outputs": [
        {
          "output_type": "stream",
          "text": [
            "Input:  [ 10.   5.  -5. -10.]\n",
            "[ 10.   5.  -5. -10.]\n",
            "[ 10.   5.  -5. -10.]\n",
            "[ 10.  10. -15. -40.]\n",
            "[ 13.  13. -12. -37.]\n",
            "[13.  13.  -1.2 -3.7]\n",
            "[-13.  -26.    3.6  14.8]\n",
            "[-15.  -28.    1.6  12.8]\n",
            "Output: [-1.5 -2.8  1.6 12.8]\n"
          ],
          "name": "stdout"
        }
      ]
    },
    {
      "cell_type": "code",
      "metadata": {
        "id": "xsW3AHGYT3zF",
        "colab_type": "code",
        "colab": {
          "base_uri": "https://localhost:8080/"
        },
        "outputId": "ade9f8de-42c7-47e1-f825-cc881cdb8caa"
      },
      "source": [
        "import matplotlib.pyplot as plt\n",
        "img = plt.imread(\"https://drive.google.com/uc?export=view&id=1oaLVR2hr1_qzpKQ47i9rVUIklwbDcews\")\n",
        "print(img.shape)\n",
        "plt.imshow(img)\n",
        "img_add = img + 0.25\n",
        "plt.imshow(np.clip(img_add, 0,1))\n"
      ],
      "execution_count": null,
      "outputs": [
        {
          "output_type": "stream",
          "text": [
            "(350, 210, 4)\n"
          ],
          "name": "stdout"
        },
        {
          "output_type": "execute_result",
          "data": {
            "text/plain": [
              "<matplotlib.image.AxesImage at 0x7fc84e7b3c50>"
            ]
          },
          "metadata": {
            "tags": []
          },
          "execution_count": 18
        },
        {
          "output_type": "display_data",
          "data": {
            "image/png": "[encoded data removed]",
            "text/plain": [
              "<Figure size 432x288 with 1 Axes>"
            ]
          },
          "metadata": {
            "tags": [],
            "needs_background": "light"
          }
        }
      ]
    },
    {
      "cell_type": "code",
      "metadata": {
        "id": "LUUZWKXkVFM8",
        "colab_type": "code",
        "colab": {
          "base_uri": "https://localhost:8080/"
        },
        "outputId": "4451ffc3-3ad1-44b1-8227-91ed3dea516c"
      },
      "source": [
        "img_cropped = img[:130, :150, :-1]\n",
        "print(img_cropped.shape)\n",
        "plt.imshow(img_cropped)"
      ],
      "execution_count": null,
      "outputs": [
        {
          "output_type": "stream",
          "text": [
            "(130, 150, 3)\n"
          ],
          "name": "stdout"
        },
        {
          "output_type": "execute_result",
          "data": {
            "text/plain": [
              "<matplotlib.image.AxesImage at 0x7fc84e747940>"
            ]
          },
          "metadata": {
            "tags": []
          },
          "execution_count": 19
        },
        {
          "output_type": "display_data",
          "data": {
            "image/png": "[encoded data removed]",
            "text/plain": [
              "<Figure size 432x288 with 1 Axes>"
            ]
          },
          "metadata": {
            "tags": [],
            "needs_background": "light"
          }
        }
      ]
    },
    {
      "cell_type": "code",
      "metadata": {
        "id": "LSLBsdSfXIEe",
        "colab_type": "code",
        "colab": {}
      },
      "source": [
        "import torch"
      ],
      "execution_count": null,
      "outputs": []
    },
    {
      "cell_type": "code",
      "metadata": {
        "id": "j2_WqvGJZh0x",
        "colab_type": "code",
        "colab": {}
      },
      "source": [
        "img_torch = torch.from_numpy(img_cropped)"
      ],
      "execution_count": null,
      "outputs": []
    },
    {
      "cell_type": "code",
      "metadata": {
        "id": "tQ1bMyT_Zkvf",
        "colab_type": "code",
        "colab": {
          "base_uri": "https://localhost:8080/"
        },
        "outputId": "1a1f83db-4385-4118-9f6b-138d44205b76"
      },
      "source": [
        "img_torch.shape"
      ],
      "execution_count": null,
      "outputs": [
        {
          "output_type": "execute_result",
          "data": {
            "text/plain": [
              "torch.Size([130, 150, 3])"
            ]
          },
          "metadata": {
            "tags": []
          },
          "execution_count": 22
        }
      ]
    },
    {
      "cell_type": "code",
      "metadata": {
        "id": "g46NTqEYZndU",
        "colab_type": "code",
        "colab": {
          "base_uri": "https://localhost:8080/"
        },
        "outputId": "d862f9af-e1bd-43ae-aac3-fffc455195d4"
      },
      "source": [
        "img_torch.numel()"
      ],
      "execution_count": null,
      "outputs": [
        {
          "output_type": "execute_result",
          "data": {
            "text/plain": [
              "58500"
            ]
          },
          "metadata": {
            "tags": []
          },
          "execution_count": 23
        }
      ]
    },
    {
      "cell_type": "code",
      "metadata": {
        "id": "a5CU1cqIZplg",
        "colab_type": "code",
        "colab": {
          "base_uri": "https://localhost:8080/"
        },
        "outputId": "ce1d1e0d-1e67-4083-c288-977f3e3017d5"
      },
      "source": [
        "print(img_torch.transpose(0,2).shape)"
      ],
      "execution_count": null,
      "outputs": [
        {
          "output_type": "stream",
          "text": [
            "torch.Size([3, 150, 130])\n"
          ],
          "name": "stdout"
        }
      ]
    },
    {
      "cell_type": "code",
      "metadata": {
        "id": "FCquiNrxaINw",
        "colab_type": "code",
        "colab": {
          "base_uri": "https://localhost:8080/"
        },
        "outputId": "749ae2f7-6079-43f0-8319-79fb23eb5917"
      },
      "source": [
        "print(img_torch.shape)"
      ],
      "execution_count": null,
      "outputs": [
        {
          "output_type": "stream",
          "text": [
            "torch.Size([130, 150, 3])\n"
          ],
          "name": "stdout"
        }
      ]
    },
    {
      "cell_type": "code",
      "metadata": {
        "id": "9bwzVjhIaLW5",
        "colab_type": "code",
        "colab": {
          "base_uri": "https://localhost:8080/"
        },
        "outputId": "26ea917f-710f-4b47-d56e-a1b0c1293186"
      },
      "source": [
        "print(img_torch.unsqueeze(0).shape)"
      ],
      "execution_count": null,
      "outputs": [
        {
          "output_type": "stream",
          "text": [
            "torch.Size([1, 130, 150, 3])\n"
          ],
          "name": "stdout"
        }
      ]
    },
    {
      "cell_type": "code",
      "metadata": {
        "id": "6cwgqK8jaQZl",
        "colab_type": "code",
        "colab": {
          "base_uri": "https://localhost:8080/"
        },
        "outputId": "5ca313d4-b500-4f98-ba4c-618c2552845b"
      },
      "source": [
        "print(img_torch.shape)"
      ],
      "execution_count": null,
      "outputs": [
        {
          "output_type": "stream",
          "text": [
            "torch.Size([130, 150, 3])\n"
          ],
          "name": "stdout"
        }
      ]
    },
    {
      "cell_type": "code",
      "metadata": {
        "id": "9R2Se_ia-VzS",
        "colab_type": "code",
        "colab": {
          "base_uri": "https://localhost:8080/",
          "height": 850
        },
        "outputId": "646d5cdf-a5b3-4cd6-f636-34648de18e53"
      },
      "source": [
        "print(img_torch)"
      ],
      "execution_count": null,
      "outputs": [
        {
          "output_type": "stream",
          "text": [
            "tensor([[[0.5882, 0.3725, 0.1490],\n",
            "         [0.5765, 0.3608, 0.1373],\n",
            "         [0.5569, 0.3412, 0.1176],\n",
            "         ...,\n",
            "         [0.5804, 0.3412, 0.1294],\n",
            "         [0.6039, 0.3647, 0.1529],\n",
            "         [0.6157, 0.3765, 0.1647]],\n",
            "\n",
            "        [[0.5412, 0.3216, 0.0902],\n",
            "         [0.5647, 0.3451, 0.1137],\n",
            "         [0.5961, 0.3765, 0.1451],\n",
            "         ...,\n",
            "         [0.5882, 0.3490, 0.1373],\n",
            "         [0.6078, 0.3686, 0.1569],\n",
            "         [0.6196, 0.3804, 0.1686]],\n",
            "\n",
            "        [[0.6157, 0.3765, 0.1529],\n",
            "         [0.6196, 0.3843, 0.1490],\n",
            "         [0.6196, 0.3843, 0.1412],\n",
            "         ...,\n",
            "         [0.5922, 0.3529, 0.1373],\n",
            "         [0.6157, 0.3765, 0.1608],\n",
            "         [0.6275, 0.3882, 0.1725]],\n",
            "\n",
            "        ...,\n",
            "\n",
            "        [[0.6039, 0.3882, 0.1686],\n",
            "         [0.6078, 0.3922, 0.1686],\n",
            "         [0.6118, 0.3961, 0.1725],\n",
            "         ...,\n",
            "         [0.3804, 0.3098, 0.2157],\n",
            "         [0.3765, 0.3059, 0.2118],\n",
            "         [0.3765, 0.3098, 0.2078]],\n",
            "\n",
            "        [[0.5882, 0.3725, 0.1529],\n",
            "         [0.6078, 0.3922, 0.1725],\n",
            "         [0.6196, 0.4039, 0.1804],\n",
            "         ...,\n",
            "         [0.3882, 0.3176, 0.2314],\n",
            "         [0.3804, 0.3098, 0.2157],\n",
            "         [0.3804, 0.3098, 0.2157]],\n",
            "\n",
            "        [[0.5804, 0.3647, 0.1451],\n",
            "         [0.6039, 0.3882, 0.1686],\n",
            "         [0.6235, 0.4078, 0.1882],\n",
            "         ...,\n",
            "         [0.4196, 0.3373, 0.2549],\n",
            "         [0.4039, 0.3216, 0.2392],\n",
            "         [0.3961, 0.3137, 0.2314]]])\n"
          ],
          "name": "stdout"
        }
      ]
    },
    {
      "cell_type": "code",
      "metadata": {
        "id": "fsOYS2XT-TFb",
        "colab_type": "code",
        "colab": {
          "base_uri": "https://localhost:8080/",
          "height": 1000
        },
        "outputId": "6d8ae338-eef1-420b-d0c9-2dfbddb7d9a4"
      },
      "source": [
        "print(torch.max(img_torch, dim = 1))"
      ],
      "execution_count": null,
      "outputs": [
        {
          "output_type": "stream",
          "text": [
            "torch.return_types.max(\n",
            "values=tensor([[0.6941, 0.4941, 0.3490],\n",
            "        [0.6902, 0.4863, 0.3451],\n",
            "        [0.6902, 0.4824, 0.3451],\n",
            "        [0.6902, 0.4824, 0.3412],\n",
            "        [0.6667, 0.4863, 0.2980],\n",
            "        [0.6706, 0.4824, 0.2980],\n",
            "        [0.6667, 0.4706, 0.3059],\n",
            "        [0.6627, 0.4667, 0.3137],\n",
            "        [0.6627, 0.4588, 0.3216],\n",
            "        [0.6824, 0.4706, 0.3255],\n",
            "        [0.6824, 0.4706, 0.3216],\n",
            "        [0.6745, 0.4627, 0.3255],\n",
            "        [0.6745, 0.4627, 0.3882],\n",
            "        [0.6745, 0.4588, 0.3686],\n",
            "        [0.6784, 0.4627, 0.3490],\n",
            "        [0.6784, 0.4667, 0.3412],\n",
            "        [0.6784, 0.4745, 0.3333],\n",
            "        [0.6824, 0.4824, 0.3333],\n",
            "        [0.6824, 0.4784, 0.3373],\n",
            "        [0.6824, 0.4745, 0.3294],\n",
            "        [0.6863, 0.4784, 0.3137],\n",
            "        [0.6784, 0.4745, 0.3294],\n",
            "        [0.6706, 0.4706, 0.3373],\n",
            "        [0.6706, 0.4824, 0.3412],\n",
            "        [0.6784, 0.4784, 0.3294],\n",
            "        [0.6824, 0.4627, 0.3294],\n",
            "        [0.6784, 0.4706, 0.3294],\n",
            "        [0.6784, 0.4863, 0.3216],\n",
            "        [0.6863, 0.4627, 0.3216],\n",
            "        [0.6980, 0.4745, 0.3216],\n",
            "        [0.7020, 0.4824, 0.3255],\n",
            "        [0.6902, 0.4784, 0.3294],\n",
            "        [0.6745, 0.4627, 0.3333],\n",
            "        [0.6745, 0.4549, 0.3373],\n",
            "        [0.6784, 0.4627, 0.3373],\n",
            "        [0.6863, 0.4706, 0.3333],\n",
            "        [0.6784, 0.4784, 0.3333],\n",
            "        [0.6863, 0.4863, 0.3373],\n",
            "        [0.6941, 0.4941, 0.3373],\n",
            "        [0.6941, 0.4941, 0.3333],\n",
            "        [0.6863, 0.4863, 0.3333],\n",
            "        [0.6824, 0.4784, 0.3373],\n",
            "        [0.6784, 0.5451, 0.4314],\n",
            "        [0.7373, 0.6431, 0.5098],\n",
            "        [0.8039, 0.6196, 0.4118],\n",
            "        [0.8039, 0.6235, 0.4078],\n",
            "        [0.7686, 0.5922, 0.4039],\n",
            "        [0.7294, 0.6118, 0.4549],\n",
            "        [0.7686, 0.6549, 0.4980],\n",
            "        [0.8353, 0.7020, 0.5255],\n",
            "        [0.8510, 0.7137, 0.5490],\n",
            "        [0.8275, 0.7098, 0.5608],\n",
            "        [0.8549, 0.7373, 0.5882],\n",
            "        [0.8588, 0.7451, 0.6118],\n",
            "        [0.7961, 0.6824, 0.5490],\n",
            "        [0.6627, 0.5216, 0.3882],\n",
            "        [0.6706, 0.5294, 0.4078],\n",
            "        [0.6902, 0.5529, 0.4549],\n",
            "        [0.7176, 0.5686, 0.4627],\n",
            "        [0.7451, 0.5882, 0.4706],\n",
            "        [0.7529, 0.6118, 0.4941],\n",
            "        [0.7569, 0.6196, 0.4941],\n",
            "        [0.7529, 0.6039, 0.4902],\n",
            "        [0.7529, 0.6118, 0.4863],\n",
            "        [0.7529, 0.6078, 0.5020],\n",
            "        [0.7412, 0.6000, 0.5098],\n",
            "        [0.7451, 0.6039, 0.5137],\n",
            "        [0.7529, 0.6157, 0.5294],\n",
            "        [0.7255, 0.6118, 0.5294],\n",
            "        [0.7176, 0.6157, 0.5137],\n",
            "        [0.7176, 0.6118, 0.5216],\n",
            "        [0.7216, 0.6157, 0.5294],\n",
            "        [0.7098, 0.6196, 0.5176],\n",
            "        [0.7098, 0.6196, 0.4980],\n",
            "        [0.7412, 0.6196, 0.5059],\n",
            "        [0.7529, 0.6235, 0.5294],\n",
            "        [0.7373, 0.6235, 0.5373],\n",
            "        [0.7412, 0.6039, 0.5176],\n",
            "        [0.7451, 0.6078, 0.5098],\n",
            "        [0.8039, 0.6549, 0.5529],\n",
            "        [0.7922, 0.6392, 0.5255],\n",
            "        [0.7765, 0.6235, 0.5020],\n",
            "        [0.7176, 0.5843, 0.4745],\n",
            "        [0.7137, 0.5765, 0.4667],\n",
            "        [0.7098, 0.5647, 0.4471],\n",
            "        [0.7137, 0.5608, 0.4471],\n",
            "        [0.7137, 0.5765, 0.4667],\n",
            "        [0.7137, 0.5804, 0.4667],\n",
            "        [0.7137, 0.5961, 0.4745],\n",
            "        [0.7137, 0.6118, 0.5098],\n",
            "        [0.7216, 0.6392, 0.5647],\n",
            "        [0.7490, 0.6510, 0.5882],\n",
            "        [0.7373, 0.7255, 0.5922],\n",
            "        [0.8000, 0.7451, 0.6314],\n",
            "        [0.8431, 0.7490, 0.6392],\n",
            "        [0.8941, 0.7882, 0.6745],\n",
            "        [0.8471, 0.7608, 0.6549],\n",
            "        [0.8314, 0.7490, 0.6588],\n",
            "        [0.8275, 0.7412, 0.6627],\n",
            "        [0.8039, 0.7373, 0.6353],\n",
            "        [0.7882, 0.7294, 0.6314],\n",
            "        [0.7765, 0.7333, 0.6471],\n",
            "        [0.8118, 0.7137, 0.6353],\n",
            "        [0.7882, 0.7098, 0.6235],\n",
            "        [0.8000, 0.7294, 0.6510],\n",
            "        [0.8078, 0.7451, 0.6510],\n",
            "        [0.8118, 0.7569, 0.6549],\n",
            "        [0.7804, 0.7569, 0.6314],\n",
            "        [0.7882, 0.7216, 0.6431],\n",
            "        [0.7529, 0.6824, 0.6039],\n",
            "        [0.7412, 0.6549, 0.5647],\n",
            "        [0.7294, 0.6353, 0.5412],\n",
            "        [0.6745, 0.5725, 0.4745],\n",
            "        [0.6588, 0.5333, 0.4275],\n",
            "        [0.6431, 0.5059, 0.4000],\n",
            "        [0.6353, 0.4941, 0.3765],\n",
            "        [0.6392, 0.4588, 0.3529],\n",
            "        [0.6431, 0.4471, 0.3373],\n",
            "        [0.6392, 0.4431, 0.3216],\n",
            "        [0.6392, 0.4431, 0.3176],\n",
            "        [0.6392, 0.4431, 0.3176],\n",
            "        [0.6431, 0.4392, 0.3098],\n",
            "        [0.6471, 0.4392, 0.3294],\n",
            "        [0.6667, 0.4392, 0.3294],\n",
            "        [0.6627, 0.4431, 0.3098],\n",
            "        [0.6471, 0.4196, 0.2627],\n",
            "        [0.6392, 0.4235, 0.2667],\n",
            "        [0.6510, 0.4353, 0.2588],\n",
            "        [0.6431, 0.4314, 0.2745],\n",
            "        [0.6510, 0.4392, 0.2902]]),\n",
            "indices=tensor([[ 47,  48,  53],\n",
            "        [ 47,  48,  53],\n",
            "        [ 47,  47,  53],\n",
            "        [ 46,  47,  53],\n",
            "        [ 46,  49,  53],\n",
            "        [ 46,  49,  53],\n",
            "        [ 46,  49,  53],\n",
            "        [ 44,  49,  53],\n",
            "        [ 46,  49,  53],\n",
            "        [ 47,  47,  53],\n",
            "        [ 46,  47,  53],\n",
            "        [ 46,  48,  53],\n",
            "        [ 45,  49,  53],\n",
            "        [ 45,  49,  53],\n",
            "        [ 45,  31,  53],\n",
            "        [ 45,  49,  53],\n",
            "        [ 45,  49,  53],\n",
            "        [ 45,  49,  53],\n",
            "        [ 45,  49,  53],\n",
            "        [ 45,  29,  53],\n",
            "        [ 45,  30,  52],\n",
            "        [ 45,  30,  53],\n",
            "        [ 45,  49,  52],\n",
            "        [ 45,  48,  52],\n",
            "        [ 45,  49,  52],\n",
            "        [ 45,  49,  52],\n",
            "        [ 45,  50,  52],\n",
            "        [ 45,  50,  52],\n",
            "        [ 46,  26,  52],\n",
            "        [ 46,  46,  52],\n",
            "        [ 46,  47,  52],\n",
            "        [ 46,  48,  52],\n",
            "        [ 46,  48,  52],\n",
            "        [ 46,  24,  52],\n",
            "        [ 46,  47,  52],\n",
            "        [ 47,  47,  52],\n",
            "        [ 47,  48,  52],\n",
            "        [ 48,  48,  52],\n",
            "        [ 48,  48,  52],\n",
            "        [ 48,  48,  52],\n",
            "        [ 47,  48,  52],\n",
            "        [ 47,  48,  52],\n",
            "        [ 24,  90,  90],\n",
            "        [ 64,  64,  64],\n",
            "        [ 89,  89,  90],\n",
            "        [ 87,  87,  89],\n",
            "        [ 87,  87,  88],\n",
            "        [ 87,  65,  65],\n",
            "        [ 65,  65,  65],\n",
            "        [ 64,  64,  64],\n",
            "        [ 64,  64,  64],\n",
            "        [ 65,  65,  65],\n",
            "        [ 65,  65,  65],\n",
            "        [ 66,  66,  66],\n",
            "        [ 66,  66,  66],\n",
            "        [ 33,  64,  66],\n",
            "        [ 33, 120, 117],\n",
            "        [104, 117, 117],\n",
            "        [107, 111, 116],\n",
            "        [107, 107, 114],\n",
            "        [109, 109, 116],\n",
            "        [109, 109, 109],\n",
            "        [106, 107, 116],\n",
            "        [106, 106, 106],\n",
            "        [106, 106, 106],\n",
            "        [104, 104, 111],\n",
            "        [104, 104, 111],\n",
            "        [104, 104, 104],\n",
            "        [103, 103, 112],\n",
            "        [103, 103, 104],\n",
            "        [103, 103, 104],\n",
            "        [104, 103, 104],\n",
            "        [102, 103, 104],\n",
            "        [ 90, 103, 103],\n",
            "        [ 90, 102, 104],\n",
            "        [ 90, 104, 104],\n",
            "        [ 90, 107, 107],\n",
            "        [ 91,  91, 104],\n",
            "        [ 92,  92, 104],\n",
            "        [ 49,  47,  47],\n",
            "        [ 47,  47,  47],\n",
            "        [ 42,  42,  42],\n",
            "        [ 96,  99,  99],\n",
            "        [ 95,  95,  99],\n",
            "        [ 91,  96,  96],\n",
            "        [ 91,  91, 106],\n",
            "        [ 91, 106, 106],\n",
            "        [ 91, 106, 107],\n",
            "        [ 91, 107, 107],\n",
            "        [ 92, 107, 121],\n",
            "        [121, 121, 121],\n",
            "        [122, 122, 120],\n",
            "        [123, 120, 121],\n",
            "        [123, 123, 123],\n",
            "        [125, 121, 124],\n",
            "        [126, 126, 126],\n",
            "        [127, 126, 126],\n",
            "        [128, 124, 124],\n",
            "        [120, 126, 120],\n",
            "        [129, 129, 126],\n",
            "        [130, 128, 128],\n",
            "        [128, 128, 128],\n",
            "        [132, 128, 128],\n",
            "        [132, 130, 130],\n",
            "        [130, 130, 130],\n",
            "        [132, 132, 129],\n",
            "        [132, 132, 132],\n",
            "        [128, 135, 135],\n",
            "        [133, 133, 133],\n",
            "        [133, 133, 133],\n",
            "        [124, 125, 126],\n",
            "        [125, 125, 125],\n",
            "        [123, 123, 123],\n",
            "        [111, 120, 120],\n",
            "        [112, 120, 120],\n",
            "        [ 47, 111, 111],\n",
            "        [ 31, 116, 110],\n",
            "        [ 31, 116, 112],\n",
            "        [ 28,  28, 112],\n",
            "        [ 27,  27, 148],\n",
            "        [ 24,  24, 148],\n",
            "        [ 48,  24, 145],\n",
            "        [ 30,  30, 146],\n",
            "        [ 45,  29, 147],\n",
            "        [ 44,  44, 147],\n",
            "        [ 46,  44, 137],\n",
            "        [ 24,  24, 138],\n",
            "        [ 24,  24, 138],\n",
            "        [ 23,  23, 143],\n",
            "        [ 23,  23, 145]]))\n"
          ],
          "name": "stdout"
        }
      ]
    },
    {
      "cell_type": "code",
      "metadata": {
        "id": "7Oh9t8Fj-mS4",
        "colab_type": "code",
        "colab": {
          "base_uri": "https://localhost:8080/",
          "height": 1000
        },
        "outputId": "15bbaa49-6bd1-4030-e886-3720670ff1ff"
      },
      "source": [
        "print(torch.max(img_torch, dim = 1)[0])"
      ],
      "execution_count": null,
      "outputs": [
        {
          "output_type": "stream",
          "text": [
            "tensor([[0.6941, 0.4941, 0.3490],\n",
            "        [0.6902, 0.4863, 0.3451],\n",
            "        [0.6902, 0.4824, 0.3451],\n",
            "        [0.6902, 0.4824, 0.3412],\n",
            "        [0.6667, 0.4863, 0.2980],\n",
            "        [0.6706, 0.4824, 0.2980],\n",
            "        [0.6667, 0.4706, 0.3059],\n",
            "        [0.6627, 0.4667, 0.3137],\n",
            "        [0.6627, 0.4588, 0.3216],\n",
            "        [0.6824, 0.4706, 0.3255],\n",
            "        [0.6824, 0.4706, 0.3216],\n",
            "        [0.6745, 0.4627, 0.3255],\n",
            "        [0.6745, 0.4627, 0.3882],\n",
            "        [0.6745, 0.4588, 0.3686],\n",
            "        [0.6784, 0.4627, 0.3490],\n",
            "        [0.6784, 0.4667, 0.3412],\n",
            "        [0.6784, 0.4745, 0.3333],\n",
            "        [0.6824, 0.4824, 0.3333],\n",
            "        [0.6824, 0.4784, 0.3373],\n",
            "        [0.6824, 0.4745, 0.3294],\n",
            "        [0.6863, 0.4784, 0.3137],\n",
            "        [0.6784, 0.4745, 0.3294],\n",
            "        [0.6706, 0.4706, 0.3373],\n",
            "        [0.6706, 0.4824, 0.3412],\n",
            "        [0.6784, 0.4784, 0.3294],\n",
            "        [0.6824, 0.4627, 0.3294],\n",
            "        [0.6784, 0.4706, 0.3294],\n",
            "        [0.6784, 0.4863, 0.3216],\n",
            "        [0.6863, 0.4627, 0.3216],\n",
            "        [0.6980, 0.4745, 0.3216],\n",
            "        [0.7020, 0.4824, 0.3255],\n",
            "        [0.6902, 0.4784, 0.3294],\n",
            "        [0.6745, 0.4627, 0.3333],\n",
            "        [0.6745, 0.4549, 0.3373],\n",
            "        [0.6784, 0.4627, 0.3373],\n",
            "        [0.6863, 0.4706, 0.3333],\n",
            "        [0.6784, 0.4784, 0.3333],\n",
            "        [0.6863, 0.4863, 0.3373],\n",
            "        [0.6941, 0.4941, 0.3373],\n",
            "        [0.6941, 0.4941, 0.3333],\n",
            "        [0.6863, 0.4863, 0.3333],\n",
            "        [0.6824, 0.4784, 0.3373],\n",
            "        [0.6784, 0.5451, 0.4314],\n",
            "        [0.7373, 0.6431, 0.5098],\n",
            "        [0.8039, 0.6196, 0.4118],\n",
            "        [0.8039, 0.6235, 0.4078],\n",
            "        [0.7686, 0.5922, 0.4039],\n",
            "        [0.7294, 0.6118, 0.4549],\n",
            "        [0.7686, 0.6549, 0.4980],\n",
            "        [0.8353, 0.7020, 0.5255],\n",
            "        [0.8510, 0.7137, 0.5490],\n",
            "        [0.8275, 0.7098, 0.5608],\n",
            "        [0.8549, 0.7373, 0.5882],\n",
            "        [0.8588, 0.7451, 0.6118],\n",
            "        [0.7961, 0.6824, 0.5490],\n",
            "        [0.6627, 0.5216, 0.3882],\n",
            "        [0.6706, 0.5294, 0.4078],\n",
            "        [0.6902, 0.5529, 0.4549],\n",
            "        [0.7176, 0.5686, 0.4627],\n",
            "        [0.7451, 0.5882, 0.4706],\n",
            "        [0.7529, 0.6118, 0.4941],\n",
            "        [0.7569, 0.6196, 0.4941],\n",
            "        [0.7529, 0.6039, 0.4902],\n",
            "        [0.7529, 0.6118, 0.4863],\n",
            "        [0.7529, 0.6078, 0.5020],\n",
            "        [0.7412, 0.6000, 0.5098],\n",
            "        [0.7451, 0.6039, 0.5137],\n",
            "        [0.7529, 0.6157, 0.5294],\n",
            "        [0.7255, 0.6118, 0.5294],\n",
            "        [0.7176, 0.6157, 0.5137],\n",
            "        [0.7176, 0.6118, 0.5216],\n",
            "        [0.7216, 0.6157, 0.5294],\n",
            "        [0.7098, 0.6196, 0.5176],\n",
            "        [0.7098, 0.6196, 0.4980],\n",
            "        [0.7412, 0.6196, 0.5059],\n",
            "        [0.7529, 0.6235, 0.5294],\n",
            "        [0.7373, 0.6235, 0.5373],\n",
            "        [0.7412, 0.6039, 0.5176],\n",
            "        [0.7451, 0.6078, 0.5098],\n",
            "        [0.8039, 0.6549, 0.5529],\n",
            "        [0.7922, 0.6392, 0.5255],\n",
            "        [0.7765, 0.6235, 0.5020],\n",
            "        [0.7176, 0.5843, 0.4745],\n",
            "        [0.7137, 0.5765, 0.4667],\n",
            "        [0.7098, 0.5647, 0.4471],\n",
            "        [0.7137, 0.5608, 0.4471],\n",
            "        [0.7137, 0.5765, 0.4667],\n",
            "        [0.7137, 0.5804, 0.4667],\n",
            "        [0.7137, 0.5961, 0.4745],\n",
            "        [0.7137, 0.6118, 0.5098],\n",
            "        [0.7216, 0.6392, 0.5647],\n",
            "        [0.7490, 0.6510, 0.5882],\n",
            "        [0.7373, 0.7255, 0.5922],\n",
            "        [0.8000, 0.7451, 0.6314],\n",
            "        [0.8431, 0.7490, 0.6392],\n",
            "        [0.8941, 0.7882, 0.6745],\n",
            "        [0.8471, 0.7608, 0.6549],\n",
            "        [0.8314, 0.7490, 0.6588],\n",
            "        [0.8275, 0.7412, 0.6627],\n",
            "        [0.8039, 0.7373, 0.6353],\n",
            "        [0.7882, 0.7294, 0.6314],\n",
            "        [0.7765, 0.7333, 0.6471],\n",
            "        [0.8118, 0.7137, 0.6353],\n",
            "        [0.7882, 0.7098, 0.6235],\n",
            "        [0.8000, 0.7294, 0.6510],\n",
            "        [0.8078, 0.7451, 0.6510],\n",
            "        [0.8118, 0.7569, 0.6549],\n",
            "        [0.7804, 0.7569, 0.6314],\n",
            "        [0.7882, 0.7216, 0.6431],\n",
            "        [0.7529, 0.6824, 0.6039],\n",
            "        [0.7412, 0.6549, 0.5647],\n",
            "        [0.7294, 0.6353, 0.5412],\n",
            "        [0.6745, 0.5725, 0.4745],\n",
            "        [0.6588, 0.5333, 0.4275],\n",
            "        [0.6431, 0.5059, 0.4000],\n",
            "        [0.6353, 0.4941, 0.3765],\n",
            "        [0.6392, 0.4588, 0.3529],\n",
            "        [0.6431, 0.4471, 0.3373],\n",
            "        [0.6392, 0.4431, 0.3216],\n",
            "        [0.6392, 0.4431, 0.3176],\n",
            "        [0.6392, 0.4431, 0.3176],\n",
            "        [0.6431, 0.4392, 0.3098],\n",
            "        [0.6471, 0.4392, 0.3294],\n",
            "        [0.6667, 0.4392, 0.3294],\n",
            "        [0.6627, 0.4431, 0.3098],\n",
            "        [0.6471, 0.4196, 0.2627],\n",
            "        [0.6392, 0.4235, 0.2667],\n",
            "        [0.6510, 0.4353, 0.2588],\n",
            "        [0.6431, 0.4314, 0.2745],\n",
            "        [0.6510, 0.4392, 0.2902]])\n"
          ],
          "name": "stdout"
        }
      ]
    },
    {
      "cell_type": "code",
      "metadata": {
        "id": "NU574xgO-7Gv",
        "colab_type": "code",
        "colab": {
          "base_uri": "https://localhost:8080/",
          "height": 68
        },
        "outputId": "c340da5d-3660-47ed-900e-d39f6dd32390"
      },
      "source": [
        "print(torch.max(torch.max(img_torch, dim = 1)[0], dim = 0))"
      ],
      "execution_count": null,
      "outputs": [
        {
          "output_type": "stream",
          "text": [
            "torch.return_types.max(\n",
            "values=tensor([0.8941, 0.7882, 0.6745]),\n",
            "indices=tensor([95, 95, 95]))\n"
          ],
          "name": "stdout"
        }
      ]
    },
    {
      "cell_type": "code",
      "metadata": {
        "id": "ll1iqP6DaXC4",
        "colab_type": "code",
        "colab": {
          "base_uri": "https://localhost:8080/"
        },
        "outputId": "4ac6a2dd-3104-41cb-d505-199ec45522cd"
      },
      "source": [
        "a = torch.max(torch.max(img_torch, dim = 1)[0], dim = 0)[0]\n",
        "print(a)"
      ],
      "execution_count": null,
      "outputs": [
        {
          "output_type": "stream",
          "text": [
            "tensor([0.8941, 0.7882, 0.6745])\n"
          ],
          "name": "stdout"
        }
      ]
    },
    {
      "cell_type": "code",
      "metadata": {
        "id": "rRL_c6xuayA3",
        "colab_type": "code",
        "colab": {
          "base_uri": "https://localhost:8080/",
          "height": 85
        },
        "outputId": "8568c541-7d86-4f8e-f74c-971d73182ee5"
      },
      "source": [
        "import numpy as np\n",
        "x = np.array([[1,2], [3,4]], [5,6], [7,8]])\n",
        "print(x)"
      ],
      "execution_count": null,
      "outputs": [
        {
          "output_type": "stream",
          "text": [
            "[[1 2]\n",
            " [3 4]\n",
            " [5 6]\n",
            " [7 8]]\n"
          ],
          "name": "stdout"
        }
      ]
    },
    {
      "cell_type": "code",
      "metadata": {
        "id": "nW7nlMuj6AdB",
        "colab_type": "code",
        "colab": {
          "base_uri": "https://localhost:8080/",
          "height": 204
        },
        "outputId": "d970314f-aeb2-4e01-8f5e-bcfb8f147d7c"
      },
      "source": [
        "x = torch.randn(2, 3)\n",
        "print(\"x original value:\", x)\n",
        "y = torch.transpose(x, 0, 1)\n",
        "print(np.may_share_memory(y, x))\n",
        "print(\"y value:\", y)\n",
        "y[0][0] = 1000\n",
        "print(\"y value:\", y)\n",
        "print(\"x changed value:\", x)\n",
        "\n"
      ],
      "execution_count": null,
      "outputs": [
        {
          "output_type": "stream",
          "text": [
            "x original value: tensor([[ 0.3779, -0.4290, -0.1741],\n",
            "        [ 1.2199, -0.9621,  0.6821]])\n",
            "True\n",
            "y value: tensor([[ 0.3779,  1.2199],\n",
            "        [-0.4290, -0.9621],\n",
            "        [-0.1741,  0.6821]])\n",
            "y value: tensor([[ 1.0000e+03,  1.2199e+00],\n",
            "        [-4.2898e-01, -9.6213e-01],\n",
            "        [-1.7409e-01,  6.8214e-01]])\n",
            "x changed value: tensor([[ 1.0000e+03, -4.2898e-01, -1.7409e-01],\n",
            "        [ 1.2199e+00, -9.6213e-01,  6.8214e-01]])\n"
          ],
          "name": "stdout"
        }
      ]
    },
    {
      "cell_type": "code",
      "metadata": {
        "id": "VI8ubStIEDLn",
        "colab_type": "code",
        "colab": {}
      },
      "source": [
        ""
      ],
      "execution_count": null,
      "outputs": []
    }
  ]
}